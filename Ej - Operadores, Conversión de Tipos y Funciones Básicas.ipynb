{
 "cells": [
  {
   "cell_type": "markdown",
   "id": "7ee4d4d9-43a1-4a33-a1c1-3813a929f460",
   "metadata": {},
   "source": [
    "# - Calculadora Python #2"
   ]
  },
  {
   "cell_type": "code",
   "execution_count": 1,
   "id": "1f2efa50-e8ca-4101-a6ea-f1060ba4c7cd",
   "metadata": {},
   "outputs": [
    {
     "name": "stdout",
     "output_type": "stream",
     "text": [
      "Seleccione el tipo de dato a ingresar:\n",
      "1. Lista\n",
      "2. Set\n",
      "3. Tupla\n",
      "4. Números para operaciones\n"
     ]
    },
    {
     "name": "stdin",
     "output_type": "stream",
     "text": [
      "Ingrese la opción (1-4):  1\n",
      "Ingrese una lista de números separados por comas:  10,5,500\n"
     ]
    },
    {
     "name": "stdout",
     "output_type": "stream",
     "text": [
      "Lista ingresada: [10, 5, 500]\n"
     ]
    }
   ],
   "source": [
    "# Solicitar al usuario que seleccione el tipo de estructura que desea ingresar\n",
    "print(\"Seleccione el tipo de dato a ingresar:\")\n",
    "print(\"1. Lista\")\n",
    "print(\"2. Set\")\n",
    "print(\"3. Tupla\")\n",
    "print(\"4. Números para operaciones\")\n",
    "    \n",
    "opcion = int(input(\"Ingrese la opción (1-4): \"))\n",
    "\n",
    "if opcion == 1:\n",
    "    data = input(\"Ingrese una lista de números separados por comas: \")\n",
    "    lista = list(map(int, data.split(\",\")))\n",
    "    print(\"Lista ingresada:\", lista)\n",
    "\n",
    "elif opcion == 2:\n",
    "    data = input(\"Ingrese un conjunto (set) de números separados por comas: \")\n",
    "    conjunto = set(map(int, data.split(\",\")))\n",
    "    print(\"Set ingresado:\", conjunto)\n",
    "\n",
    "elif opcion == 3:\n",
    "    data = input(\"Ingrese una tupla de números separados por comas: \")\n",
    "    tupla = tuple(map(int, data.split(\",\")))\n",
    "    print(\"Tupla ingresada:\", tupla)\n",
    "\n",
    "elif opcion == 4:\n",
    "    v_num1, v_num2 = input(\"Seleccione dos números a operar separados por un '|' : \").split(\"|\")\n",
    "    print(\"El valor de v_num1 es: \", v_num1)\n",
    "    print(\"El valor de v_num2 es: \", v_num2)\n",
    "\n",
    "    # Convertir a integer las dos variables\n",
    "    v_num1 = int(v_num1)\n",
    "    v_num2 = int(v_num2)\n",
    "\n",
    "    # Suma\n",
    "    print(\"La Suma es: \", (v_num1 + v_num2))\n",
    "\n",
    "    # Resta\n",
    "    v_resta = v_num1 - v_num2\n",
    "    print(\"La Resta es: \", v_resta)\n",
    "\n",
    "    # Multiplicación\n",
    "    v_mul = v_num1 * v_num2\n",
    "    print(\"La Multiplicación es: \", v_mul)\n",
    "\n",
    "    # División\n",
    "    print(\"La División es: \", (v_num1 / v_num2))\n",
    "\n",
    "    # Potencia\n",
    "    v_potencia = v_num1 ** v_num2\n",
    "    print(\"La Potencia es: \", v_potencia)\n",
    "\n",
    "    # Se realiza una conversión a Sistema Binario | Octal | Hexadecimal\n",
    "    print(\"\\nEl valor en Binario de v_num1 es:\", bin(v_num1))\n",
    "    print(\"\\nEl valor en Binario de v_num2 es:\", bin(v_num2))\n",
    "\n",
    "    print(\"\\nEl valor en Octal de v_num1 es:\", oct(v_num1))\n",
    "    print(\"\\nEl valor en Octal de v_num2 es:\", oct(v_num2))\n",
    "\n",
    "    print(\"\\nEl valor en Hex de v_num1 es:\", hex(v_num1))\n",
    "    print(\"\\nEl valor en Hex de v_num2 es:\", hex(v_num2))\n",
    "\n",
    "else:\n",
    "    print(\"Entrada inválida.\")"
   ]
  },
  {
   "cell_type": "code",
   "execution_count": null,
   "id": "2d77ac29-10cc-4d47-9569-d0f5e25dac19",
   "metadata": {},
   "outputs": [],
   "source": []
  }
 ],
 "metadata": {
  "kernelspec": {
   "display_name": "Python 3 (ipykernel)",
   "language": "python",
   "name": "python3"
  },
  "language_info": {
   "codemirror_mode": {
    "name": "ipython",
    "version": 3
   },
   "file_extension": ".py",
   "mimetype": "text/x-python",
   "name": "python",
   "nbconvert_exporter": "python",
   "pygments_lexer": "ipython3",
   "version": "3.12.4"
  }
 },
 "nbformat": 4,
 "nbformat_minor": 5
}
