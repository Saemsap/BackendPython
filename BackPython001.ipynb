{
 "cells": [
  {
   "cell_type": "code",
   "execution_count": 1,
   "id": "55f471df-637c-4d29-81cb-2abe63aad42d",
   "metadata": {},
   "outputs": [
    {
     "name": "stdout",
     "output_type": "stream",
     "text": [
      "Hola Mundo!\n"
     ]
    }
   ],
   "source": [
    "print(\"Hola Mundo!\")"
   ]
  },
  {
   "cell_type": "code",
   "execution_count": 3,
   "id": "97026f0e-78f5-482c-a071-fc0ebd02d46b",
   "metadata": {},
   "outputs": [
    {
     "name": "stdout",
     "output_type": "stream",
     "text": [
      "Hello World!\n"
     ]
    }
   ],
   "source": [
    "print(\"Hello World!\")"
   ]
  },
  {
   "cell_type": "code",
   "execution_count": 5,
   "id": "d0a5100b-be24-4062-bdc0-1d350681f840",
   "metadata": {},
   "outputs": [
    {
     "name": "stdout",
     "output_type": "stream",
     "text": [
      "Me llamo Emanuel\n"
     ]
    }
   ],
   "source": [
    "print(\"Me llamo Emanuel\")"
   ]
  },
  {
   "cell_type": "code",
   "execution_count": null,
   "id": "b90a7ca3-4d8c-49ab-814d-ddd0e370d972",
   "metadata": {},
   "outputs": [],
   "source": []
  }
 ],
 "metadata": {
  "kernelspec": {
   "display_name": "Python 3 (ipykernel)",
   "language": "python",
   "name": "python3"
  },
  "language_info": {
   "codemirror_mode": {
    "name": "ipython",
    "version": 3
   },
   "file_extension": ".py",
   "mimetype": "text/x-python",
   "name": "python",
   "nbconvert_exporter": "python",
   "pygments_lexer": "ipython3",
   "version": "3.12.4"
  }
 },
 "nbformat": 4,
 "nbformat_minor": 5
}
