{
 "cells": [
  {
   "cell_type": "markdown",
   "id": "2db557bb-4316-4d62-80a6-7f953cabbf8c",
   "metadata": {},
   "source": [
    "# Indexación de Cadenas"
   ]
  },
  {
   "cell_type": "markdown",
   "id": "8e96efff-abf0-4585-b83e-5f98536bd879",
   "metadata": {},
   "source": [
    "- Indexación significa acceder a los elementos\n",
    "- Para acceder podemos usar corchetes \"[]\"\n",
    "- El índice o número que pongamos se refiere a la posición dentro de la lista ordenada\n",
    "- La indexación puede usarse para extraer elementos individuales de una estructura de datos\n",
    "- En Python, toda la indexación comienza desde el número 0 como primera posición\n",
    "- Hay 2 tipos de índices:\n",
    "    - Positivos: Comienzan desde 0; estos índices buscan de izquierda a derecha de la posición solicitada\n",
    "    - Negativos: Comienzan desde -1; estos índices buscan de derecha a izquierda la posición solicitada"
   ]
  },
  {
   "cell_type": "markdown",
   "id": "265ddfb3-cccf-40cc-9b6d-67854439b791",
   "metadata": {},
   "source": [
    "## - Segmentación de Cadenas"
   ]
  },
  {
   "cell_type": "code",
   "execution_count": 9,
   "id": "80aaf45c-2836-43d0-9242-894c69465106",
   "metadata": {},
   "outputs": [
    {
     "name": "stdout",
     "output_type": "stream",
     "text": [
      "Curso de Backend Python\n",
      "<class 'str'>\n",
      "C\n",
      "Curso\n",
      "Curso\n",
      "Curso de Backend Python\n",
      "de Ba\n"
     ]
    }
   ],
   "source": [
    "# Índices Positivos\n",
    "my_string = \"Curso de Backend Python\"\n",
    "print(my_string)\n",
    "print(type(my_string))\n",
    "print(my_string[0])\n",
    "print(my_string[0:5]) # 0, 1, 2, 3 y 4\n",
    "print(my_string[:5]) # 0, 1, 2, 3 y 4\n",
    "print(my_string[:]) # Todos\n",
    "print(my_string[6:11]) # 6, 7, 8, 9, 10"
   ]
  },
  {
   "cell_type": "code",
   "execution_count": 11,
   "id": "9efcc7c9-d2a5-48fd-9ab9-7a4e78b8c151",
   "metadata": {},
   "outputs": [
    {
     "ename": "IndexError",
     "evalue": "string index out of range",
     "output_type": "error",
     "traceback": [
      "\u001b[1;31m---------------------------------------------------------------------------\u001b[0m",
      "\u001b[1;31mIndexError\u001b[0m                                Traceback (most recent call last)",
      "Cell \u001b[1;32mIn[11], line 3\u001b[0m\n\u001b[0;32m      1\u001b[0m \u001b[38;5;66;03m# Error\u001b[39;00m\n\u001b[0;32m      2\u001b[0m my_string \u001b[38;5;241m=\u001b[39m \u001b[38;5;124m\"\u001b[39m\u001b[38;5;124mCurso de Backend Python\u001b[39m\u001b[38;5;124m\"\u001b[39m\n\u001b[1;32m----> 3\u001b[0m \u001b[38;5;28mprint\u001b[39m(my_string[\u001b[38;5;241m9999\u001b[39m])\n",
      "\u001b[1;31mIndexError\u001b[0m: string index out of range"
     ]
    }
   ],
   "source": [
    "# Error\n",
    "my_string = \"Curso de Backend Python\"\n",
    "print(my_string[9999])"
   ]
  },
  {
   "cell_type": "code",
   "execution_count": 13,
   "id": "5ab5fe84-5b31-4ea5-be7d-978202bccdcd",
   "metadata": {},
   "outputs": [],
   "source": [
    "# Índices Negativos"
   ]
  },
  {
   "cell_type": "code",
   "execution_count": 19,
   "id": "afbdbed6-b5b6-4f84-bdb6-3490eacce5cb",
   "metadata": {},
   "outputs": [
    {
     "name": "stdout",
     "output_type": "stream",
     "text": [
      "n\n",
      "n\n",
      "ython\n"
     ]
    }
   ],
   "source": [
    "my_string = \"Curso de Backend Python\"\n",
    "print(my_string[len(my_string) -1])\n",
    "print(my_string[-1])\n",
    "print(my_string[-5:])"
   ]
  },
  {
   "cell_type": "markdown",
   "id": "043f006f-8255-4e23-b116-2b0939a28774",
   "metadata": {},
   "source": [
    "## - Concatenación de Cadenas"
   ]
  },
  {
   "cell_type": "code",
   "execution_count": 29,
   "id": "b4bde802-2d21-48bf-946a-cfea59a549d8",
   "metadata": {},
   "outputs": [
    {
     "name": "stdout",
     "output_type": "stream",
     "text": [
      "Curso\n",
      "Backend Python\n",
      "CursoBackend Python\n",
      "Curso Backend Python\n"
     ]
    }
   ],
   "source": [
    "my_string_1 = \"Curso\"\n",
    "my_string_2 = \"Backend Python\"\n",
    "print(my_string_1)\n",
    "print(my_string_2)\n",
    "print(my_string_1 + my_string_2)\n",
    "print(\"{} {}\".format(my_string_1, my_string_2))"
   ]
  },
  {
   "cell_type": "code",
   "execution_count": 39,
   "id": "a27c088b-2828-4de6-9879-8b142b1d9b6b",
   "metadata": {},
   "outputs": [
    {
     "name": "stdout",
     "output_type": "stream",
     "text": [
      "1020\n",
      "1020\n",
      "30\n",
      "30\n"
     ]
    }
   ],
   "source": [
    "my_string_1 = \"10\"\n",
    "my_string_2 = \"20\"\n",
    "print(my_string_1 + my_string_2)\n",
    "print(eval(my_string_1 + my_string_2))\n",
    "print(eval(\"{}+{}\".format(my_string_1, my_string_2)))\n",
    "print(int(my_string_1) + int(my_string_2))"
   ]
  },
  {
   "cell_type": "markdown",
   "id": "fb1b775d-4721-430f-8070-fb29da71cf3d",
   "metadata": {},
   "source": [
    "## - Multiplicación de Cadenas"
   ]
  },
  {
   "cell_type": "code",
   "execution_count": 46,
   "id": "f0207366-0655-4241-80bf-5a4d149ed08a",
   "metadata": {},
   "outputs": [
    {
     "name": "stdout",
     "output_type": "stream",
     "text": [
      "cargando...cargando...cargando...cargando...cargando...\n"
     ]
    }
   ],
   "source": [
    "my_string = \"cargando...\"\n",
    "print(my_string * 5)"
   ]
  },
  {
   "cell_type": "code",
   "execution_count": 48,
   "id": "981b5755-fb44-40e2-add0-c8ef1bd3bd47",
   "metadata": {},
   "outputs": [
    {
     "name": "stdout",
     "output_type": "stream",
     "text": [
      "cargando...\n",
      "cargando...\n",
      "cargando...\n",
      "cargando...\n",
      "cargando...\n",
      "\n"
     ]
    }
   ],
   "source": [
    "my_string = \"cargando...\\n\"\n",
    "print(my_string * 5)"
   ]
  },
  {
   "cell_type": "code",
   "execution_count": 52,
   "id": "1b4e8efa-c83f-4be7-94a8-99276b7ebcd6",
   "metadata": {},
   "outputs": [
    {
     "name": "stdout",
     "output_type": "stream",
     "text": [
      "\n"
     ]
    }
   ],
   "source": [
    "# Vacio\n",
    "my_string = \"cargando...\\n\"\n",
    "print(my_string * 0)"
   ]
  },
  {
   "cell_type": "code",
   "execution_count": 54,
   "id": "01b73a44-78f9-4c2d-8fa3-e26b2c283d46",
   "metadata": {},
   "outputs": [
    {
     "name": "stdout",
     "output_type": "stream",
     "text": [
      "\n"
     ]
    }
   ],
   "source": [
    "# Vacio\n",
    "my_string = \"cargando...\\n\"\n",
    "print(-6 * my_string)"
   ]
  },
  {
   "cell_type": "code",
   "execution_count": 56,
   "id": "09e72462-5fcc-4280-867a-bc21e24f26d7",
   "metadata": {},
   "outputs": [
    {
     "ename": "TypeError",
     "evalue": "can't multiply sequence by non-int of type 'float'",
     "output_type": "error",
     "traceback": [
      "\u001b[1;31m---------------------------------------------------------------------------\u001b[0m",
      "\u001b[1;31mTypeError\u001b[0m                                 Traceback (most recent call last)",
      "Cell \u001b[1;32mIn[56], line 3\u001b[0m\n\u001b[0;32m      1\u001b[0m \u001b[38;5;66;03m# Vacio\u001b[39;00m\n\u001b[0;32m      2\u001b[0m my_string \u001b[38;5;241m=\u001b[39m \u001b[38;5;124m\"\u001b[39m\u001b[38;5;124mcargando...\u001b[39m\u001b[38;5;130;01m\\n\u001b[39;00m\u001b[38;5;124m\"\u001b[39m\n\u001b[1;32m----> 3\u001b[0m \u001b[38;5;28mprint\u001b[39m(\u001b[38;5;241m5.0\u001b[39m \u001b[38;5;241m*\u001b[39m my_string)\n",
      "\u001b[1;31mTypeError\u001b[0m: can't multiply sequence by non-int of type 'float'"
     ]
    }
   ],
   "source": [
    "# Vacio\n",
    "my_string = \"cargando...\\n\"\n",
    "print(5.0 * my_string)"
   ]
  },
  {
   "cell_type": "markdown",
   "id": "4eaa3a2c-5886-42d7-869e-5b07216ed85e",
   "metadata": {},
   "source": [
    "## - Comparación de Cadenas"
   ]
  },
  {
   "cell_type": "code",
   "execution_count": 61,
   "id": "f952555b-b9b4-41f1-8e38-489f59d3bbd7",
   "metadata": {},
   "outputs": [
    {
     "name": "stdout",
     "output_type": "stream",
     "text": [
      "False\n"
     ]
    }
   ],
   "source": [
    "my_string_1 = \"Prueba\"\n",
    "my_string_2 = \"prueba\"\n",
    "print(my_string_1 == my_string_2)"
   ]
  },
  {
   "cell_type": "code",
   "execution_count": 63,
   "id": "28cb973d-2db3-4516-b215-8b092209928b",
   "metadata": {},
   "outputs": [
    {
     "name": "stdout",
     "output_type": "stream",
     "text": [
      "True\n"
     ]
    }
   ],
   "source": [
    "my_string_1 = \"Prueba\"\n",
    "my_string_2 = \"prueba\"\n",
    "print(my_string_1 != my_string_2)"
   ]
  },
  {
   "cell_type": "code",
   "execution_count": 65,
   "id": "61266a67-fefa-41a4-845c-250be50a608b",
   "metadata": {},
   "outputs": [
    {
     "name": "stdout",
     "output_type": "stream",
     "text": [
      "True\n"
     ]
    }
   ],
   "source": [
    "my_string_1 = \"Prueba\"\n",
    "my_string_2 = \"Prueba\"\n",
    "print(my_string_1 == my_string_2)"
   ]
  },
  {
   "cell_type": "markdown",
   "id": "f1cc78b7-18ff-47b2-83b5-18412409c3cc",
   "metadata": {},
   "source": [
    "## - Funciones de Cadenas\n",
    "\n",
    "### split\n",
    "- Divide la cadena basándose en el separador especificado"
   ]
  },
  {
   "cell_type": "code",
   "execution_count": 106,
   "id": "542d24da-1f6c-465c-91bb-13d07b988f91",
   "metadata": {},
   "outputs": [
    {
     "name": "stdout",
     "output_type": "stream",
     "text": [
      "['El', 'Curso', 'de', 'Backend', 'Python', 'de', 'EBAC', 'te', 'lleva', 'de', 'la', 'mano', 'para', 'que', 'aprendas', 'a', 'programar']\n"
     ]
    }
   ],
   "source": [
    "my_string = \"El Curso de Backend Python de EBAC te lleva de la mano para que aprendas a programar\"\n",
    "split_result = my_string.split(\" \")\n",
    "print(split_result)"
   ]
  },
  {
   "cell_type": "code",
   "execution_count": 76,
   "id": "4c250952-94bc-4877-81ab-60b7bd511d60",
   "metadata": {},
   "outputs": [
    {
     "name": "stdout",
     "output_type": "stream",
     "text": [
      "user123\n",
      "gmail.com\n"
     ]
    }
   ],
   "source": [
    "my_string = \"user123@gmail.com\"\n",
    "username, domain = my_string.split(\"@\")\n",
    "print(username)\n",
    "print(domain)"
   ]
  },
  {
   "cell_type": "code",
   "execution_count": 84,
   "id": "b0d45ccd-e990-4814-9174-8242b8f80ab3",
   "metadata": {},
   "outputs": [
    {
     "name": "stdout",
     "output_type": "stream",
     "text": [
      "Date:  2024-09-11\n",
      "Log Level:  Error\n",
      "Message:  Este es un mensaje de error\n",
      "Date:  2024-09-10\n",
      "Log Level:  Warning\n",
      "Message:  Este es un mensaje de advertencia\n",
      "Date:  2024-09-09\n",
      "Log Level:  info\n",
      "Message:  Este es un mensaje informativo\n"
     ]
    }
   ],
   "source": [
    "my_string = \"\"\"2024-09-11|Error|Este es un mensaje de error\n",
    "2024-09-10|Warning|Este es un mensaje de advertencia\n",
    "2024-09-09|info|Este es un mensaje informativo\"\"\"\n",
    "\n",
    "logs = my_string.split(\"\\n\")\n",
    "for log in logs:\n",
    "    date, log_level, message = log.split(\"|\")\n",
    "    print(\"Date: \", date)\n",
    "    print(\"Log Level: \", log_level)\n",
    "    print(\"Message: \", message)"
   ]
  },
  {
   "cell_type": "markdown",
   "id": "5b1d11ef-8312-4e9f-80d6-3066519f9df2",
   "metadata": {},
   "source": [
    "### index/fing\n",
    "- Busca la primer posición de la subcadena solicitada en la cadena deseada"
   ]
  },
  {
   "cell_type": "code",
   "execution_count": 108,
   "id": "a86607d6-1ce1-4876-8aec-6df292c7e810",
   "metadata": {},
   "outputs": [
    {
     "name": "stdout",
     "output_type": "stream",
     "text": [
      "La primera posición de 'Python' en my_string es:  20\n",
      "La primera posición de 'Python' en my_string es:  20\n"
     ]
    }
   ],
   "source": [
    "my_string = \"El Curso de Backend Python de EBAC te lleva de la mano para que aprendas a programar\"\n",
    "\n",
    "print(\"La primera posición de 'Python' en my_string es: \", my_string.index(\"Python\"))\n",
    "print(\"La primera posición de 'Python' en my_string es: \", my_string.find(\"Python\"))"
   ]
  },
  {
   "cell_type": "code",
   "execution_count": 110,
   "id": "d3cc6510-7043-4999-83ab-b358f6da9537",
   "metadata": {},
   "outputs": [
    {
     "name": "stdout",
     "output_type": "stream",
     "text": [
      "La primera posición de 'Python' en my_string es:  12\n",
      "La primera posición de 'Python' en my_string es:  12\n"
     ]
    }
   ],
   "source": [
    "my_string = \"El Curso de Backend Python de EBAC te lleva de la mano para que aprendas a programar\"\n",
    "\n",
    "print(\"La primera posición de 'Python' en my_string es: \", my_string.index(\"Backend\"))\n",
    "print(\"La primera posición de 'Python' en my_string es: \", my_string.find(\"Backend\"))"
   ]
  },
  {
   "cell_type": "code",
   "execution_count": 112,
   "id": "a55b423f-1a6e-45d2-908b-ecddea120a1b",
   "metadata": {},
   "outputs": [
    {
     "name": "stdout",
     "output_type": "stream",
     "text": [
      "La primera posición de 'Python' en my_string es:  0\n",
      "La primera posición de 'Python' en my_string es:  0\n"
     ]
    }
   ],
   "source": [
    "my_string = \"El Curso de Backend Python de EBAC te lleva de la mano para que aprendas a programar\"\n",
    "\n",
    "print(\"La primera posición de 'Python' en my_string es: \", my_string.index(\"E\"))\n",
    "print(\"La primera posición de 'Python' en my_string es: \", my_string.find(\"E\"))"
   ]
  },
  {
   "cell_type": "markdown",
   "id": "23b0db38-a20d-415b-ae0b-84e25bfceb15",
   "metadata": {},
   "source": [
    "### count\n",
    "- Cuenta el número de apariciones de la subcadena solicitada en la cadena completa"
   ]
  },
  {
   "cell_type": "code",
   "execution_count": 114,
   "id": "ff4c5655-6040-4b43-992a-716a63c6c330",
   "metadata": {},
   "outputs": [
    {
     "name": "stdout",
     "output_type": "stream",
     "text": [
      "La cantidad de 'E' en my_string es:  2\n"
     ]
    }
   ],
   "source": [
    "my_string = \"El Curso de Backend Python de EBAC te lleva de la mano para que aprendas a programar\"\n",
    "\n",
    "print(\"La cantidad de 'E' en my_string es: \", my_string.count(\"E\"))"
   ]
  },
  {
   "cell_type": "code",
   "execution_count": 116,
   "id": "8226a07a-8fba-481b-8df2-4b331317882a",
   "metadata": {},
   "outputs": [
    {
     "name": "stdout",
     "output_type": "stream",
     "text": [
      "La cantidad de 'de' en my_string es:  3\n"
     ]
    }
   ],
   "source": [
    "my_string = \"El Curso de Backend Python de EBAC te lleva de la mano para que aprendas a programar\"\n",
    "\n",
    "print(\"La cantidad de 'de' en my_string es: \", my_string.count(\"de\"))"
   ]
  },
  {
   "cell_type": "markdown",
   "id": "9be9375d-ef73-4961-97da-2cbdeaf77852",
   "metadata": {},
   "source": [
    "### len\n",
    "- Cuenta la longitud, o cuántos caracteres hay"
   ]
  },
  {
   "cell_type": "code",
   "execution_count": 118,
   "id": "7594afb3-3960-4c2a-9115-a5314983f713",
   "metadata": {},
   "outputs": [
    {
     "name": "stdout",
     "output_type": "stream",
     "text": [
      "La cantidad de caracteres en my_string es:  84\n"
     ]
    }
   ],
   "source": [
    "my_string = \"El Curso de Backend Python de EBAC te lleva de la mano para que aprendas a programar\"\n",
    "\n",
    "print(\"La cantidad de caracteres en my_string es: \", len(my_string))"
   ]
  },
  {
   "cell_type": "code",
   "execution_count": 120,
   "id": "ffa6fa17-04cd-415b-8ba8-f5465b4c9dc0",
   "metadata": {},
   "outputs": [
    {
     "name": "stdout",
     "output_type": "stream",
     "text": [
      "La cantidad de caracteres en my_string es:  14\n"
     ]
    }
   ],
   "source": [
    "my_string = \"Backend Python\"\n",
    "\n",
    "print(\"La cantidad de caracteres en my_string es: \", len(my_string))"
   ]
  },
  {
   "cell_type": "markdown",
   "id": "d35f549d-b3d5-444b-be42-20bbc0c124c5",
   "metadata": {},
   "source": [
    "### strip\n",
    "- Remueve espacios"
   ]
  },
  {
   "cell_type": "code",
   "execution_count": 130,
   "id": "2d5ac108-19eb-4694-8d1c-6aee1f844d26",
   "metadata": {},
   "outputs": [
    {
     "name": "stdout",
     "output_type": "stream",
     "text": [
      "               Backend Python                   \n",
      "[               Backend Python                   ]\n",
      "Backend Python\n",
      "[Backend Python]\n"
     ]
    }
   ],
   "source": [
    "my_string = \"               Backend Python                   \"\n",
    "print(my_string)\n",
    "print(\"[{}]\".format(my_string))\n",
    "print(my_string.strip())\n",
    "print(\"[{}]\".format(my_string.strip()))"
   ]
  },
  {
   "cell_type": "code",
   "execution_count": 134,
   "id": "f07fc8b1-029e-4dfc-93a3-9b214fbf88f3",
   "metadata": {},
   "outputs": [
    {
     "name": "stdout",
     "output_type": "stream",
     "text": [
      "[            \n",
      "\n",
      "Backend Python\n",
      "\n",
      "                   ]\n",
      "[Backend Python]\n"
     ]
    }
   ],
   "source": [
    "my_string = \"            \\n\\n\\t\\rBackend Python\\n\\n\\t\\r                   \"\n",
    "print(\"[{}]\".format(my_string))\n",
    "print(\"[{}]\".format(my_string.strip()))"
   ]
  },
  {
   "cell_type": "code",
   "execution_count": 140,
   "id": "8cd835db-6053-4d47-934b-eb1ecf95116b",
   "metadata": {},
   "outputs": [
    {
     "name": "stdout",
     "output_type": "stream",
     "text": [
      "[Backend Python]\n",
      "[Backend Pytho]\n"
     ]
    }
   ],
   "source": [
    "my_string = \"Backend Python\"\n",
    "print(\"[{}]\".format(my_string))\n",
    "print(\"[{}]\".format(my_string.strip(\"n\")))"
   ]
  },
  {
   "cell_type": "markdown",
   "id": "34429615-85b8-4329-8c29-3b0b7e218143",
   "metadata": {},
   "source": [
    "### isdecimal / isnumeric / isdigit\n",
    "- Analiza si la cadena contiene solamente números/enteros"
   ]
  },
  {
   "cell_type": "code",
   "execution_count": 146,
   "id": "d3b9b0c8-3fc6-4b30-a148-f298d616b01b",
   "metadata": {},
   "outputs": [
    {
     "name": "stdout",
     "output_type": "stream",
     "text": [
      "True\n",
      "True\n",
      "True\n"
     ]
    }
   ],
   "source": [
    "my_string = \"123456789987456654\"\n",
    "print(my_string.isdecimal())\n",
    "print(my_string.isnumeric())\n",
    "print(my_string.isdigit())"
   ]
  },
  {
   "cell_type": "code",
   "execution_count": 148,
   "id": "9cf91e06-d724-441f-ad61-e917261edce1",
   "metadata": {},
   "outputs": [
    {
     "name": "stdout",
     "output_type": "stream",
     "text": [
      "False\n",
      "False\n",
      "False\n"
     ]
    }
   ],
   "source": [
    "my_string = \"1234567899.87456654\"\n",
    "print(my_string.isdecimal())\n",
    "print(my_string.isnumeric())\n",
    "print(my_string.isdigit())"
   ]
  },
  {
   "cell_type": "code",
   "execution_count": 150,
   "id": "333edc3b-318d-497c-aec6-94ecf55bfead",
   "metadata": {},
   "outputs": [
    {
     "name": "stdout",
     "output_type": "stream",
     "text": [
      "False\n",
      "False\n",
      "False\n"
     ]
    }
   ],
   "source": [
    "my_string = \"123456789987456654texto\"\n",
    "print(my_string.isdecimal())\n",
    "print(my_string.isnumeric())\n",
    "print(my_string.isdigit())"
   ]
  },
  {
   "cell_type": "code",
   "execution_count": 152,
   "id": "e3dfe165-f481-44dd-90b3-bfe920c9561c",
   "metadata": {},
   "outputs": [
    {
     "name": "stdout",
     "output_type": "stream",
     "text": [
      "False\n",
      "False\n",
      "False\n"
     ]
    }
   ],
   "source": [
    "my_string = \"123456789987456 654\"\n",
    "print(my_string.isdecimal())\n",
    "print(my_string.isnumeric())\n",
    "print(my_string.isdigit())"
   ]
  },
  {
   "cell_type": "markdown",
   "id": "5788c3f6-9671-4e99-8a56-b587f6a15148",
   "metadata": {},
   "source": [
    "### isalnum\n",
    "- Analiza si todos los caracteres son alfanúmericos (letras o números)"
   ]
  },
  {
   "cell_type": "code",
   "execution_count": 156,
   "id": "0002a132-2c58-413f-9d5a-24e2488eff58",
   "metadata": {},
   "outputs": [
    {
     "name": "stdout",
     "output_type": "stream",
     "text": [
      "True\n"
     ]
    }
   ],
   "source": [
    "my_string = \"123456789987456654\"\n",
    "print(my_string.isalnum())"
   ]
  },
  {
   "cell_type": "code",
   "execution_count": 158,
   "id": "31d2e508-e5ec-4797-8a13-e7da09af5c73",
   "metadata": {},
   "outputs": [
    {
     "name": "stdout",
     "output_type": "stream",
     "text": [
      "False\n"
     ]
    }
   ],
   "source": [
    "my_string = \"1234567.89987456654\"\n",
    "print(my_string.isalnum())"
   ]
  },
  {
   "cell_type": "code",
   "execution_count": 160,
   "id": "809da0a1-1b54-44e5-ba1f-10176a5dc2ba",
   "metadata": {},
   "outputs": [
    {
     "name": "stdout",
     "output_type": "stream",
     "text": [
      "True\n"
     ]
    }
   ],
   "source": [
    "my_string = \"123456789987456654test\"\n",
    "print(my_string.isalnum())"
   ]
  },
  {
   "cell_type": "code",
   "execution_count": 162,
   "id": "839a557b-3565-4851-8d46-4f0ab634f507",
   "metadata": {},
   "outputs": [
    {
     "name": "stdout",
     "output_type": "stream",
     "text": [
      "False\n"
     ]
    }
   ],
   "source": [
    "my_string = \"1234567899874 56654\"\n",
    "print(my_string.isalnum())"
   ]
  },
  {
   "cell_type": "markdown",
   "id": "0e376205-b2e9-416e-ab52-9d89b609693f",
   "metadata": {},
   "source": [
    "### isupper\n",
    "- Analiza si todas las letras en la cadena son Mayúsculas (letras)"
   ]
  },
  {
   "cell_type": "code",
   "execution_count": 166,
   "id": "223bdf6b-618f-43b8-8218-26a5feca7564",
   "metadata": {},
   "outputs": [
    {
     "name": "stdout",
     "output_type": "stream",
     "text": [
      "False\n"
     ]
    }
   ],
   "source": [
    "my_string = \"test\"\n",
    "print(my_string.isupper())"
   ]
  },
  {
   "cell_type": "code",
   "execution_count": 170,
   "id": "ddb32f69-bef3-4b43-a681-08b81fc7bcf4",
   "metadata": {},
   "outputs": [
    {
     "name": "stdout",
     "output_type": "stream",
     "text": [
      "True\n"
     ]
    }
   ],
   "source": [
    "my_string = \"TEST\"\n",
    "print(my_string.isupper())"
   ]
  },
  {
   "cell_type": "code",
   "execution_count": 172,
   "id": "40a92fdc-6fa0-4c43-a85f-acc62fc06bfa",
   "metadata": {},
   "outputs": [
    {
     "name": "stdout",
     "output_type": "stream",
     "text": [
      "False\n"
     ]
    }
   ],
   "source": [
    "my_string = \"Test\"\n",
    "print(my_string.isupper())"
   ]
  },
  {
   "cell_type": "code",
   "execution_count": 174,
   "id": "e7dce6f1-b562-4b94-8a84-bb2031cd96e0",
   "metadata": {},
   "outputs": [
    {
     "name": "stdout",
     "output_type": "stream",
     "text": [
      "True\n"
     ]
    }
   ],
   "source": [
    "my_string = \"TEST12345\"\n",
    "print(my_string.isupper())"
   ]
  },
  {
   "cell_type": "markdown",
   "id": "b4436de3-4c04-4c1e-a44a-6097a5b024f5",
   "metadata": {},
   "source": [
    "### islower\n",
    "- Analiza si todas las letras en la cadena son Minúsculas (letras)"
   ]
  },
  {
   "cell_type": "code",
   "execution_count": 186,
   "id": "44dace34-d5f7-4d5e-8d59-efef166859f7",
   "metadata": {},
   "outputs": [
    {
     "name": "stdout",
     "output_type": "stream",
     "text": [
      "True\n"
     ]
    }
   ],
   "source": [
    "my_string = \"test\"\n",
    "print(my_string.islower())"
   ]
  },
  {
   "cell_type": "code",
   "execution_count": 188,
   "id": "d86cef03-31aa-4329-a9fc-3bbd01fc300c",
   "metadata": {},
   "outputs": [
    {
     "name": "stdout",
     "output_type": "stream",
     "text": [
      "False\n"
     ]
    }
   ],
   "source": [
    "my_string = \"TEST\"\n",
    "print(my_string.islower())"
   ]
  },
  {
   "cell_type": "code",
   "execution_count": 190,
   "id": "310cd556-9ec9-4389-85d7-708f4392bb95",
   "metadata": {},
   "outputs": [
    {
     "name": "stdout",
     "output_type": "stream",
     "text": [
      "False\n"
     ]
    }
   ],
   "source": [
    "my_string = \"Test\"\n",
    "print(my_string.islower())"
   ]
  },
  {
   "cell_type": "code",
   "execution_count": 192,
   "id": "1606210f-970e-4739-9272-ea8667f1158e",
   "metadata": {},
   "outputs": [
    {
     "name": "stdout",
     "output_type": "stream",
     "text": [
      "True\n"
     ]
    }
   ],
   "source": [
    "my_string = \"test12345\"\n",
    "print(my_string.islower())"
   ]
  },
  {
   "cell_type": "markdown",
   "id": "7fabcdbd-a890-4b94-be70-45df57788deb",
   "metadata": {},
   "source": [
    "### join\n",
    "- Crea una cadena de una lista, usando el separador especificado"
   ]
  },
  {
   "cell_type": "code",
   "execution_count": 196,
   "id": "8039703f-4149-483a-aa1f-42020e905437",
   "metadata": {},
   "outputs": [
    {
     "name": "stdout",
     "output_type": "stream",
     "text": [
      "132|22|389\n"
     ]
    }
   ],
   "source": [
    "num_list = [\"132\", \"22\", \"389\"] # List\n",
    "separador = \"|\"\n",
    "print(separador.join(num_list))"
   ]
  },
  {
   "cell_type": "code",
   "execution_count": 198,
   "id": "65885a13-50fe-41fc-a388-26217d4aef35",
   "metadata": {},
   "outputs": [
    {
     "name": "stdout",
     "output_type": "stream",
     "text": [
      "132-22-389\n"
     ]
    }
   ],
   "source": [
    "num_list = [\"132\", \"22\", \"389\"] # List\n",
    "separador = \"-\"\n",
    "print(separador.join(num_list))"
   ]
  },
  {
   "cell_type": "code",
   "execution_count": 200,
   "id": "0a506672-817a-4ac7-933f-e75b0dfb1202",
   "metadata": {},
   "outputs": [
    {
     "name": "stdout",
     "output_type": "stream",
     "text": [
      "132,22,389\n"
     ]
    }
   ],
   "source": [
    "num_list = [\"132\", \"22\", \"389\"] # List\n",
    "separador = \",\"\n",
    "print(separador.join(num_list))"
   ]
  },
  {
   "cell_type": "markdown",
   "id": "210be9de-56df-4568-a9d8-3ad741be31c2",
   "metadata": {},
   "source": [
    "### capitalize\n",
    "- Hace mayúscula la primer letra"
   ]
  },
  {
   "cell_type": "code",
   "execution_count": 206,
   "id": "a7b287cd-fe94-48a7-8b21-d84922abc9a9",
   "metadata": {},
   "outputs": [
    {
     "name": "stdout",
     "output_type": "stream",
     "text": [
      "Backend python\n"
     ]
    }
   ],
   "source": [
    "my_string = \"backEnd python\"\n",
    "print(my_string.capitalize())"
   ]
  },
  {
   "cell_type": "code",
   "execution_count": 208,
   "id": "1f8d1209-39dc-46cd-a69f-689f82b7cf72",
   "metadata": {},
   "outputs": [
    {
     "name": "stdout",
     "output_type": "stream",
     "text": [
      "Probando las funciones\n"
     ]
    }
   ],
   "source": [
    "my_string = \"probando las funciones\"\n",
    "print(my_string.capitalize())"
   ]
  },
  {
   "cell_type": "code",
   "execution_count": 210,
   "id": "ca460619-1d96-492e-909d-b14ddfbd6532",
   "metadata": {},
   "outputs": [
    {
     "name": "stdout",
     "output_type": "stream",
     "text": [
      "Probando las funciones\n"
     ]
    }
   ],
   "source": [
    "my_string = \"Probando las funciones\"\n",
    "print(my_string.capitalize())"
   ]
  },
  {
   "cell_type": "markdown",
   "id": "bf12810e-9e4b-48a8-bc35-483a980e259a",
   "metadata": {},
   "source": [
    "### format\n",
    "- Nos ayuda a configurar valores dentro de una cadena que es nuestro molde"
   ]
  },
  {
   "cell_type": "code",
   "execution_count": 216,
   "id": "a320e23a-0a6c-495b-8e29-3d34589d49ec",
   "metadata": {},
   "outputs": [
    {
     "name": "stdout",
     "output_type": "stream",
     "text": [
      "44 es el valor\n",
      "23 es el valor\n",
      "7 es el valor\n"
     ]
    }
   ],
   "source": [
    "my_string = \"{} es el valor\"\n",
    "print(my_string.format(\"44\"))\n",
    "print(my_string.format(\"23\"))\n",
    "print(my_string.format(\"7\"))"
   ]
  },
  {
   "cell_type": "code",
   "execution_count": 218,
   "id": "6ec11156-8bda-4870-acd3-388eb1505f3c",
   "metadata": {},
   "outputs": [
    {
     "name": "stdout",
     "output_type": "stream",
     "text": [
      "Año: 2024 Hora: 9:40\n",
      "Año: 2000 Hora: 14:40\n",
      "Año: 2022 Hora: 3:21\n"
     ]
    }
   ],
   "source": [
    "my_string = \"Año: {} Hora: {}\"\n",
    "print(my_string.format(\"2024\", \"9:40\"))\n",
    "print(my_string.format(\"2000\", \"14:40\"))\n",
    "print(my_string.format(\"2022\", \"3:21\"))"
   ]
  },
  {
   "cell_type": "code",
   "execution_count": 224,
   "id": "48d85859-2d7d-4e9f-833d-2e9ed32a742c",
   "metadata": {},
   "outputs": [
    {
     "name": "stdout",
     "output_type": "stream",
     "text": [
      "Hora: 9:40 Año: 2024\n",
      "Hora: 14:40 Año: 2000\n",
      "Hora: 3:21 Año: 2022\n"
     ]
    }
   ],
   "source": [
    "my_string = \"Hora: {1} Año: {0}\" # Se puede asignar indice\n",
    "print(my_string.format(\"2024\", \"9:40\")) # 0 , 1\n",
    "print(my_string.format(\"2000\", \"14:40\"))\n",
    "print(my_string.format(\"2022\", \"3:21\"))"
   ]
  },
  {
   "cell_type": "markdown",
   "id": "ad672824-57ea-4c94-9cbe-213cf9184aa1",
   "metadata": {},
   "source": [
    "### center\n",
    "- Centra el texto dada cierta longitus"
   ]
  },
  {
   "cell_type": "code",
   "execution_count": 232,
   "id": "c74b9ffd-30fd-4f62-82e4-90525918adb5",
   "metadata": {},
   "outputs": [
    {
     "name": "stdout",
     "output_type": "stream",
     "text": [
      "[ Probando Funciones ]\n",
      "[      Probando Funciones      ]\n",
      "[           Probando Funciones           ]\n",
      "[                Probando Funciones                ]\n"
     ]
    }
   ],
   "source": [
    "my_string = \"Probando Funciones\"\n",
    "print(\"[{}]\".format(my_string.center(20)))\n",
    "print(\"[{}]\".format(my_string.center(30)))\n",
    "print(\"[{}]\".format(my_string.center(40)))\n",
    "print(\"[{}]\".format(my_string.center(50)))"
   ]
  },
  {
   "cell_type": "markdown",
   "id": "f14ceed6-5108-4f67-aa85-4bf586a748e3",
   "metadata": {},
   "source": [
    "### endswith\n",
    "- Evalúa si la cadena termina con el caracter, palabra o subcadena solicitada"
   ]
  },
  {
   "cell_type": "code",
   "execution_count": 236,
   "id": "95b9af80-10d5-4cf2-b4d9-2120b1cf1f9a",
   "metadata": {},
   "outputs": [
    {
     "name": "stdout",
     "output_type": "stream",
     "text": [
      "True\n"
     ]
    }
   ],
   "source": [
    "my_string = \"Probando Funciones\"\n",
    "print(my_string.endswith(\"s\"))"
   ]
  },
  {
   "cell_type": "code",
   "execution_count": 238,
   "id": "e2aebf57-b9d0-429b-8461-8ef153c12c75",
   "metadata": {},
   "outputs": [
    {
     "name": "stdout",
     "output_type": "stream",
     "text": [
      "True\n"
     ]
    }
   ],
   "source": [
    "my_string = \"Probando Funciones\"\n",
    "print(my_string.endswith(\"Funciones\"))"
   ]
  },
  {
   "cell_type": "code",
   "execution_count": 243,
   "id": "05f39876-9d9b-4687-bc97-6203df860a83",
   "metadata": {},
   "outputs": [
    {
     "name": "stdout",
     "output_type": "stream",
     "text": [
      "True\n"
     ]
    }
   ],
   "source": [
    "my_string = \"Probando Funciones\"\n",
    "print(my_string.endswith(\"ando Funciones\"))"
   ]
  },
  {
   "cell_type": "code",
   "execution_count": 245,
   "id": "f384044b-25a3-4f5d-9865-21476d1b50ca",
   "metadata": {},
   "outputs": [
    {
     "name": "stdout",
     "output_type": "stream",
     "text": [
      "False\n"
     ]
    }
   ],
   "source": [
    "my_string = \"Probando Funciones\"\n",
    "print(my_string.endswith(\"Probando\"))"
   ]
  },
  {
   "cell_type": "code",
   "execution_count": 247,
   "id": "1bc89ba4-7e65-4a2c-9a8f-b28caa5c7c2a",
   "metadata": {},
   "outputs": [
    {
     "name": "stdout",
     "output_type": "stream",
     "text": [
      "False\n"
     ]
    }
   ],
   "source": [
    "my_string = \"Probando Funciones\"\n",
    "print(my_string.endswith(\"funciones\"))"
   ]
  },
  {
   "cell_type": "markdown",
   "id": "ae4da909-a40e-4497-b185-fe669fdfe9b8",
   "metadata": {},
   "source": [
    "### swapcase\n",
    "- Invierte mayúsculas y minúsculas"
   ]
  },
  {
   "cell_type": "code",
   "execution_count": 251,
   "id": "5110253a-6085-4820-8fff-20830541840a",
   "metadata": {},
   "outputs": [
    {
     "name": "stdout",
     "output_type": "stream",
     "text": [
      "pROBANDO fUNCIONES\n"
     ]
    }
   ],
   "source": [
    "my_string = \"Probando Funciones\"\n",
    "print(my_string.swapcase())"
   ]
  },
  {
   "cell_type": "code",
   "execution_count": 253,
   "id": "49b044da-d828-429f-9248-1840e873e9ce",
   "metadata": {},
   "outputs": [
    {
     "name": "stdout",
     "output_type": "stream",
     "text": [
      "PROBANDO fUNCIONES\n"
     ]
    }
   ],
   "source": [
    "my_string = \"probando Funciones\"\n",
    "print(my_string.swapcase())"
   ]
  },
  {
   "cell_type": "markdown",
   "id": "4ea45fb6-135e-4329-8cd9-bc2a1f659866",
   "metadata": {},
   "source": [
    "### replace\n",
    "- Remplaza una subcadena por otra subcadena, dentro de una cadena"
   ]
  },
  {
   "cell_type": "code",
   "execution_count": 259,
   "id": "529ec75d-2460-47a5-bad4-5a2ab32a4755",
   "metadata": {},
   "outputs": [
    {
     "name": "stdout",
     "output_type": "stream",
     "text": [
      "Usando Funciones\n"
     ]
    }
   ],
   "source": [
    "my_string = \"Probando Funciones\"\n",
    "print(my_string.replace(\"Probando\", \"Usando\"))"
   ]
  },
  {
   "cell_type": "code",
   "execution_count": 261,
   "id": "cb353a74-e1aa-4b41-be6e-093906d8ba27",
   "metadata": {},
   "outputs": [
    {
     "name": "stdout",
     "output_type": "stream",
     "text": [
      "Probando\n",
      "Funciones\n"
     ]
    }
   ],
   "source": [
    "my_string = \"Probando Funciones\"\n",
    "print(my_string.replace(\" \", \"\\n\"))"
   ]
  },
  {
   "cell_type": "code",
   "execution_count": 263,
   "id": "505fd3ef-72e0-4094-8b02-b99ea03306d3",
   "metadata": {},
   "outputs": [
    {
     "name": "stdout",
     "output_type": "stream",
     "text": [
      "PrObandO FunciOnes\n"
     ]
    }
   ],
   "source": [
    "my_string = \"Probando Funciones\"\n",
    "print(my_string.replace(\"o\", \"O\"))"
   ]
  },
  {
   "cell_type": "code",
   "execution_count": 267,
   "id": "bd0e6a2e-33a5-4f0e-8a06-8e0641968de5",
   "metadata": {},
   "outputs": [
    {
     "name": "stdout",
     "output_type": "stream",
     "text": [
      "Probando Funciones\n"
     ]
    }
   ],
   "source": [
    "my_string = \"Probando Funciones\"\n",
    "print(my_string.replace(\"y\", \"O\"))"
   ]
  },
  {
   "cell_type": "markdown",
   "id": "aa4c36da-1a12-45af-b3c5-dd9e8622c63b",
   "metadata": {},
   "source": [
    "## - Formateo de Cadenas y Datetime"
   ]
  },
  {
   "cell_type": "code",
   "execution_count": 272,
   "id": "b6c6aea1-5c81-4226-9591-19b1370bd15b",
   "metadata": {},
   "outputs": [
    {
     "name": "stdout",
     "output_type": "stream",
     "text": [
      "2024-09-11 16:59:00.518946\n"
     ]
    }
   ],
   "source": [
    "from datetime import datetime # Debemos importar datetime\n",
    "now = datetime.now()\n",
    "\n",
    "print(now)"
   ]
  },
  {
   "cell_type": "code",
   "execution_count": 274,
   "id": "7a4f8c91-a0f2-413f-844f-ae857de6fbb6",
   "metadata": {},
   "outputs": [
    {
     "name": "stdout",
     "output_type": "stream",
     "text": [
      "Año:  2024\n",
      "Mes:  09\n",
      "Día:  11\n",
      "Hora:  16:59:00\n"
     ]
    }
   ],
   "source": [
    "year = now.strftime(\"%Y\")\n",
    "month = now.strftime(\"%m\")\n",
    "day = now.strftime(\"%d\")\n",
    "time = now.strftime(\"%H:%M:%S\")\n",
    "print(\"Año: \", year)\n",
    "print(\"Mes: \", month)\n",
    "print(\"Día: \", day)\n",
    "print(\"Hora: \", time)"
   ]
  },
  {
   "cell_type": "markdown",
   "id": "6a5c44f2-0eec-42e5-863d-52a8be63e2f3",
   "metadata": {},
   "source": [
    "### reverse / reversa\n",
    "- Invertir una cadena"
   ]
  },
  {
   "cell_type": "code",
   "execution_count": 279,
   "id": "ea71e76e-ac0e-40b1-b54b-5fa47e46c366",
   "metadata": {},
   "outputs": [
    {
     "name": "stdout",
     "output_type": "stream",
     "text": [
      "senoicnuF odnaborP\n"
     ]
    }
   ],
   "source": [
    "my_string = \"Probando Funciones\"\n",
    "print(my_string[::-1])"
   ]
  },
  {
   "cell_type": "code",
   "execution_count": null,
   "id": "ca41af15-2bdd-4b7a-8d33-3f702f96d275",
   "metadata": {},
   "outputs": [],
   "source": []
  }
 ],
 "metadata": {
  "kernelspec": {
   "display_name": "Python 3 (ipykernel)",
   "language": "python",
   "name": "python3"
  },
  "language_info": {
   "codemirror_mode": {
    "name": "ipython",
    "version": 3
   },
   "file_extension": ".py",
   "mimetype": "text/x-python",
   "name": "python",
   "nbconvert_exporter": "python",
   "pygments_lexer": "ipython3",
   "version": "3.12.4"
  }
 },
 "nbformat": 4,
 "nbformat_minor": 5
}
