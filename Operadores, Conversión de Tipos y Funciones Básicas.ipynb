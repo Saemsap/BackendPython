{
 "cells": [
  {
   "cell_type": "markdown",
   "id": "08d0e80b-10d2-47f4-854d-172fcd33ec44",
   "metadata": {},
   "source": [
    "# - Operadores y Tipos de Operadores"
   ]
  },
  {
   "cell_type": "markdown",
   "id": "b634a5eb-b17f-44b5-be5b-906befa71a94",
   "metadata": {},
   "source": [
    "\n",
    "- Son un conjunto de símbolospara un lenguaje de programación\n",
    "- Pueden decirle al compilador o intérpetre que ejecute ciertas acciones para producir un resultado final\n",
    "- Pueden ser usados para aplicar operaciones en variables o valores\n",
    "- Pueden ser clasificados según su tipo (aritméticos, relacionales, asignación, decremento, lógicos, afiliación\n",
    "  de identidad)"
   ]
  },
  {
   "cell_type": "markdown",
   "id": "06e7d50a-6918-4f04-8f8d-99e7905560d9",
   "metadata": {},
   "source": [
    "## - Tipos de Operadores\n",
    "- Aritméticos\n",
    "- Relacionales\n",
    "- Asignación\n",
    "- Lógicos\n",
    "- Afiliación\n",
    "- Identidad"
   ]
  },
  {
   "cell_type": "markdown",
   "id": "c7103577-bbe0-4c69-a671-b15712bc7f2a",
   "metadata": {},
   "source": [
    "### - Operadores Aritméticos\n",
    "- \"+\": Suma\n",
    "- \"-\": Resta\n",
    "- \"*\": Multiplicación\n",
    "- \"/\": División\n",
    "- \"//\": División con Redondeo hacia abajo\n",
    "- \"**\": Exponente"
   ]
  },
  {
   "cell_type": "code",
   "execution_count": 7,
   "id": "39cdede4-9256-4afa-baa4-f917e94dcff5",
   "metadata": {},
   "outputs": [
    {
     "name": "stdout",
     "output_type": "stream",
     "text": [
      "El resultado de num_1 + num_2 es:  800\n"
     ]
    }
   ],
   "source": [
    "# \"+\": Suma\n",
    "num_1 = 500\n",
    "num_2 = 300\n",
    "print(\"El resultado de num_1 + num_2 es: \", num_1 + num_2)"
   ]
  },
  {
   "cell_type": "code",
   "execution_count": 9,
   "id": "27e987b9-b187-4a9c-be55-2427313f9408",
   "metadata": {},
   "outputs": [
    {
     "name": "stdout",
     "output_type": "stream",
     "text": [
      "El resultado de num_1 + num_2 es:  1100\n"
     ]
    }
   ],
   "source": [
    "# \"+\": Suma\n",
    "num_1 = 200\n",
    "num_2 = 900\n",
    "print(\"El resultado de num_1 + num_2 es: \", num_1 + num_2)"
   ]
  },
  {
   "cell_type": "code",
   "execution_count": 11,
   "id": "d6ad10c9-e318-4b39-872a-6895f3b27dbb",
   "metadata": {},
   "outputs": [
    {
     "name": "stdout",
     "output_type": "stream",
     "text": [
      "El resultado de num_1 - num_2 es:  200\n"
     ]
    }
   ],
   "source": [
    "# \"-\": Resta\n",
    "num_1 = 500\n",
    "num_2 = 300\n",
    "print(\"El resultado de num_1 - num_2 es: \", num_1 - num_2)"
   ]
  },
  {
   "cell_type": "code",
   "execution_count": 13,
   "id": "88314d27-3522-4c81-a980-f32aa56ab6db",
   "metadata": {},
   "outputs": [
    {
     "name": "stdout",
     "output_type": "stream",
     "text": [
      "El resultado de num_1 * num_2 es:  150000\n"
     ]
    }
   ],
   "source": [
    "# \"*\": Multiplicación \n",
    "num_1 = 500\n",
    "num_2 = 300\n",
    "print(\"El resultado de num_1 * num_2 es: \", num_1 * num_2)"
   ]
  },
  {
   "cell_type": "code",
   "execution_count": 15,
   "id": "7c2146a6-47e4-43e7-b965-fdd9547442a4",
   "metadata": {},
   "outputs": [
    {
     "name": "stdout",
     "output_type": "stream",
     "text": [
      "El resultado de num_1 / num_2 es:  1.6666666666666667\n"
     ]
    }
   ],
   "source": [
    "# \"/\": División \n",
    "num_1 = 500\n",
    "num_2 = 300\n",
    "print(\"El resultado de num_1 / num_2 es: \", num_1 / num_2)"
   ]
  },
  {
   "cell_type": "code",
   "execution_count": 17,
   "id": "1dc3c6da-2e96-464e-9db1-786bb1f5ff10",
   "metadata": {},
   "outputs": [
    {
     "name": "stdout",
     "output_type": "stream",
     "text": [
      "El resultado de num_1 // num_2 es:  1\n"
     ]
    }
   ],
   "source": [
    "# \"//\": División Redondeo \n",
    "num_1 = 500\n",
    "num_2 = 300\n",
    "print(\"El resultado de num_1 // num_2 es: \", num_1 // num_2)"
   ]
  },
  {
   "cell_type": "code",
   "execution_count": 19,
   "id": "e9d08917-2010-41b1-8deb-81cb74e71636",
   "metadata": {},
   "outputs": [
    {
     "name": "stdout",
     "output_type": "stream",
     "text": [
      "El resultado de num_1 ** num_2 es:  32\n"
     ]
    }
   ],
   "source": [
    "# \"**\": Exponente\n",
    "num_1 = 2\n",
    "num_2 = 5\n",
    "print(\"El resultado de num_1 ** num_2 es: \", num_1 ** num_2)"
   ]
  },
  {
   "cell_type": "markdown",
   "id": "557d8783-8ec9-436f-8323-c59f889b33be",
   "metadata": {},
   "source": [
    "### - Operadores Relacionales\n",
    "- Son conocidos como Operadores de Comparación\n",
    "- Regresan un valor booleano (True o False)\n",
    "- Python son usados para comparar o relacionar los valores\n",
    "- Verdadero/True, es el resultado cuando la condición es exitosa\n",
    "- Falso/False, es el resultado cuando la condición no se cumple\n",
    "- Estos operadores se encargan de las operaciones de comparación"
   ]
  },
  {
   "cell_type": "markdown",
   "id": "41dc17c6-e493-4fb5-87c5-d8bd89a6e19a",
   "metadata": {},
   "source": [
    "#### - Tipos de Operadores Relacionales\n",
    "- \"==\": Igual a\n",
    "- \"!=\": Diferente a\n",
    "- \">\": Mayor que\n",
    "- \">=\": Mayor o Igual\n",
    "- \"<\": Menor que\n",
    "- \"<=\": Menor o Igual"
   ]
  },
  {
   "cell_type": "code",
   "execution_count": null,
   "id": "5a5340ec-53f8-4ff7-8493-64294b1a789a",
   "metadata": {},
   "outputs": [],
   "source": [
    "# \"==\": Igual a"
   ]
  },
  {
   "cell_type": "code",
   "execution_count": 33,
   "id": "5be9c113-264e-45c8-8ef0-10e5f4b1b05a",
   "metadata": {},
   "outputs": [
    {
     "name": "stdout",
     "output_type": "stream",
     "text": [
      "El resultado de num_1 == num_2 es:  False\n"
     ]
    }
   ],
   "source": [
    "num_1 = 570\n",
    "num_2 = 420\n",
    "print(\"El resultado de num_1 == num_2 es: \", num_1 == num_2)"
   ]
  },
  {
   "cell_type": "code",
   "execution_count": 27,
   "id": "d93342e8-e9f6-4bac-a760-a66bbcff7f3b",
   "metadata": {},
   "outputs": [
    {
     "name": "stdout",
     "output_type": "stream",
     "text": [
      "El resultado de num_1 == num_2 es:  True\n"
     ]
    }
   ],
   "source": [
    "num_1 = 570\n",
    "num_2 = 570\n",
    "print(\"El resultado de num_1 == num_2 es: \", num_1 == num_2)"
   ]
  },
  {
   "cell_type": "code",
   "execution_count": 29,
   "id": "6cd7d438-64cb-4309-8d9f-03407bd5b81e",
   "metadata": {},
   "outputs": [
    {
     "name": "stdout",
     "output_type": "stream",
     "text": [
      "El resultado de str_1 == str_2 es:  True\n"
     ]
    }
   ],
   "source": [
    "str_1 = \"Backend Python\"\n",
    "str_2 = \"Backend Python\"\n",
    "print(\"El resultado de str_1 == str_2 es: \", str_1 == str_2)"
   ]
  },
  {
   "cell_type": "code",
   "execution_count": 31,
   "id": "5a7766d0-d3da-4e99-a454-b1751a705798",
   "metadata": {},
   "outputs": [
    {
     "name": "stdout",
     "output_type": "stream",
     "text": [
      "El resultado de str_1 == str_2 es:  False\n"
     ]
    }
   ],
   "source": [
    "str_1 = \"Backend python\"\n",
    "str_2 = \"Backend Python\"\n",
    "print(\"El resultado de str_1 == str_2 es: \", str_1 == str_2)"
   ]
  },
  {
   "cell_type": "code",
   "execution_count": 35,
   "id": "b15c90c3-7db0-4895-b2d4-da789f7ca563",
   "metadata": {},
   "outputs": [],
   "source": [
    "# \"!=\": Diferente a"
   ]
  },
  {
   "cell_type": "code",
   "execution_count": 37,
   "id": "fc7b9ad4-f448-4527-91c4-2ded8f975ebb",
   "metadata": {},
   "outputs": [
    {
     "name": "stdout",
     "output_type": "stream",
     "text": [
      "El resultado de num_1 != num_2 es:  True\n"
     ]
    }
   ],
   "source": [
    "num_1 = 570\n",
    "num_2 = 420\n",
    "print(\"El resultado de num_1 != num_2 es: \", num_1 != num_2)"
   ]
  },
  {
   "cell_type": "code",
   "execution_count": 39,
   "id": "034f8c16-7311-4a81-82ea-0e16a2c8ac6f",
   "metadata": {},
   "outputs": [
    {
     "name": "stdout",
     "output_type": "stream",
     "text": [
      "El resultado de num_1 != num_2 es:  False\n"
     ]
    }
   ],
   "source": [
    "num_1 = 570\n",
    "num_2 = 570\n",
    "print(\"El resultado de num_1 != num_2 es: \", num_1 != num_2)"
   ]
  },
  {
   "cell_type": "code",
   "execution_count": 41,
   "id": "ca425efa-790c-4888-82f5-8ee61adc8292",
   "metadata": {},
   "outputs": [],
   "source": [
    "# \">\": Mayor que"
   ]
  },
  {
   "cell_type": "code",
   "execution_count": 43,
   "id": "167ecc96-204b-496e-9bea-7a5a91b8f08a",
   "metadata": {},
   "outputs": [
    {
     "name": "stdout",
     "output_type": "stream",
     "text": [
      "El resultado de num_1 > num_2 es:  True\n"
     ]
    }
   ],
   "source": [
    "num_1 = 570\n",
    "num_2 = 420\n",
    "print(\"El resultado de num_1 > num_2 es: \", num_1 > num_2)"
   ]
  },
  {
   "cell_type": "code",
   "execution_count": 45,
   "id": "119e256d-a233-4642-9853-f0589ce5624d",
   "metadata": {},
   "outputs": [
    {
     "name": "stdout",
     "output_type": "stream",
     "text": [
      "El resultado de num_1 > num_2 es:  False\n"
     ]
    }
   ],
   "source": [
    "num_1 = 570\n",
    "num_2 = 570\n",
    "print(\"El resultado de num_1 > num_2 es: \", num_1 > num_2)"
   ]
  },
  {
   "cell_type": "code",
   "execution_count": 47,
   "id": "a70651c3-67c3-4389-a205-dabde0b4a0dc",
   "metadata": {},
   "outputs": [
    {
     "name": "stdout",
     "output_type": "stream",
     "text": [
      "El resultado de num_1 > num_2 es:  False\n"
     ]
    }
   ],
   "source": [
    "num_1 = 570\n",
    "num_2 = 890\n",
    "print(\"El resultado de num_1 > num_2 es: \", num_1 > num_2)"
   ]
  },
  {
   "cell_type": "code",
   "execution_count": 49,
   "id": "b52fb081-201c-44a2-807b-b878f21872c7",
   "metadata": {},
   "outputs": [],
   "source": [
    "# \">=\": Mayor o Igual"
   ]
  },
  {
   "cell_type": "code",
   "execution_count": 51,
   "id": "2d09f81f-f255-409f-8f1f-441f8abe2fb2",
   "metadata": {},
   "outputs": [
    {
     "name": "stdout",
     "output_type": "stream",
     "text": [
      "El resultado de num_1 >= num_2 es:  True\n"
     ]
    }
   ],
   "source": [
    "num_1 = 570\n",
    "num_2 = 420\n",
    "print(\"El resultado de num_1 >= num_2 es: \", num_1 >= num_2)"
   ]
  },
  {
   "cell_type": "code",
   "execution_count": 53,
   "id": "6748360c-1387-416c-99b8-408f36226741",
   "metadata": {},
   "outputs": [
    {
     "name": "stdout",
     "output_type": "stream",
     "text": [
      "El resultado de num_1 >= num_2 es:  True\n"
     ]
    }
   ],
   "source": [
    "num_1 = 570\n",
    "num_2 = 570\n",
    "print(\"El resultado de num_1 >= num_2 es: \", num_1 >= num_2)"
   ]
  },
  {
   "cell_type": "code",
   "execution_count": 55,
   "id": "d1aa6154-beac-48c1-89ea-c871916be05e",
   "metadata": {},
   "outputs": [
    {
     "name": "stdout",
     "output_type": "stream",
     "text": [
      "El resultado de num_1 >= num_2 es:  False\n"
     ]
    }
   ],
   "source": [
    "num_1 = 570\n",
    "num_2 = 890\n",
    "print(\"El resultado de num_1 >= num_2 es: \", num_1 >= num_2)"
   ]
  },
  {
   "cell_type": "code",
   "execution_count": 57,
   "id": "d0dd7959-2757-43e3-854e-d2855d321b9d",
   "metadata": {},
   "outputs": [],
   "source": [
    "# \"<\": Menor que"
   ]
  },
  {
   "cell_type": "code",
   "execution_count": 59,
   "id": "df126d8e-321f-482c-80e9-db42a8adcc82",
   "metadata": {},
   "outputs": [
    {
     "name": "stdout",
     "output_type": "stream",
     "text": [
      "El resultado de num_1 < num_2 es:  False\n"
     ]
    }
   ],
   "source": [
    "num_1 = 570\n",
    "num_2 = 420\n",
    "print(\"El resultado de num_1 < num_2 es: \", num_1 < num_2)"
   ]
  },
  {
   "cell_type": "code",
   "execution_count": 61,
   "id": "c01abaaf-9ea3-4ef0-9fec-01391b5b5ef4",
   "metadata": {},
   "outputs": [
    {
     "name": "stdout",
     "output_type": "stream",
     "text": [
      "El resultado de num_1 < num_2 es:  False\n"
     ]
    }
   ],
   "source": [
    "num_1 = 570\n",
    "num_2 = 570\n",
    "print(\"El resultado de num_1 < num_2 es: \", num_1 < num_2)"
   ]
  },
  {
   "cell_type": "code",
   "execution_count": 63,
   "id": "19265909-7f8e-4ffb-9a7e-08602c90b7fc",
   "metadata": {},
   "outputs": [
    {
     "name": "stdout",
     "output_type": "stream",
     "text": [
      "El resultado de num_1 < num_2 es:  True\n"
     ]
    }
   ],
   "source": [
    "num_1 = 570\n",
    "num_2 = 890\n",
    "print(\"El resultado de num_1 < num_2 es: \", num_1 < num_2)"
   ]
  },
  {
   "cell_type": "code",
   "execution_count": 65,
   "id": "d6e71723-5077-4956-8ca0-b70043900177",
   "metadata": {},
   "outputs": [],
   "source": [
    "# \"<=\": Menor o Igual"
   ]
  },
  {
   "cell_type": "code",
   "execution_count": 67,
   "id": "7d934c1d-a964-407c-ac10-fcb96f012d18",
   "metadata": {},
   "outputs": [
    {
     "name": "stdout",
     "output_type": "stream",
     "text": [
      "El resultado de num_1 <= num_2 es:  False\n"
     ]
    }
   ],
   "source": [
    "num_1 = 570\n",
    "num_2 = 420\n",
    "print(\"El resultado de num_1 <= num_2 es: \", num_1 <= num_2)"
   ]
  },
  {
   "cell_type": "code",
   "execution_count": 69,
   "id": "8ec8ed82-90f0-4595-b91c-0485b50bc118",
   "metadata": {},
   "outputs": [
    {
     "name": "stdout",
     "output_type": "stream",
     "text": [
      "El resultado de num_1 <= num_2 es:  True\n"
     ]
    }
   ],
   "source": [
    "num_1 = 570\n",
    "num_2 = 570\n",
    "print(\"El resultado de num_1 <= num_2 es: \", num_1 <= num_2)"
   ]
  },
  {
   "cell_type": "code",
   "execution_count": 71,
   "id": "cf9739e4-2e00-426d-850e-234b4580d3c5",
   "metadata": {},
   "outputs": [
    {
     "name": "stdout",
     "output_type": "stream",
     "text": [
      "El resultado de num_1 <= num_2 es:  True\n"
     ]
    }
   ],
   "source": [
    "num_1 = 570\n",
    "num_2 = 890\n",
    "print(\"El resultado de num_1 <= num_2 es: \", num_1 <= num_2)"
   ]
  },
  {
   "cell_type": "markdown",
   "id": "cdb55500-fc1b-4861-8cf6-583b71c1a0c0",
   "metadata": {},
   "source": [
    "### - Operadores de Asignación\n",
    "- Son usados para asignar valores a variables\n",
    "- Incluyen al operador de asignación que es el signo de igual (=)\n",
    "\n",
    "#### - Tipos de Operadores de Asignación\n",
    "- \"=\": Operador de Asignación\n",
    "- \"+=\": Sumar y Asignar\n",
    "- \"-=\": Restar y Asignar\n",
    "- \"*=\": Multiplicar y Asignar\n",
    "- \"/=\": Dividir y Asignar\n",
    "- \"//=\": Dividir con Redondeo hacia abajo y Asignar\n",
    "- \"%=\": Módulo y Asignar\n",
    "- \"**=\": Exponente y Asignar"
   ]
  },
  {
   "cell_type": "code",
   "execution_count": 21,
   "id": "8cf02f25-5002-4078-9747-b2b20d54ff27",
   "metadata": {},
   "outputs": [],
   "source": [
    "# \"=\": Operador de Asignación"
   ]
  },
  {
   "cell_type": "code",
   "execution_count": 23,
   "id": "d711391b-2c93-4390-9e1d-c920e3b69847",
   "metadata": {},
   "outputs": [],
   "source": [
    "num_1 = 20\n",
    "mum_2 = 3"
   ]
  },
  {
   "cell_type": "code",
   "execution_count": 25,
   "id": "c82fdcc4-12a6-45d8-8e67-d13fc5e89819",
   "metadata": {},
   "outputs": [],
   "source": [
    "# \"+=\": Sumar y Asignar"
   ]
  },
  {
   "cell_type": "code",
   "execution_count": 29,
   "id": "6463767b-2aea-41e7-9631-56bbe0c057db",
   "metadata": {},
   "outputs": [
    {
     "name": "stdout",
     "output_type": "stream",
     "text": [
      "num_1 antes de la operación:  20\n",
      "num_1 despues de la operación:  23\n"
     ]
    }
   ],
   "source": [
    "num_1 = 20\n",
    "num_2 = 3\n",
    "print(\"num_1 antes de la operación: \", num_1)\n",
    "num_1 += num_2\n",
    "print(\"num_1 despues de la operación: \", num_1)"
   ]
  },
  {
   "cell_type": "code",
   "execution_count": 31,
   "id": "882eba47-7339-4d26-9786-b11cdd5693d1",
   "metadata": {},
   "outputs": [],
   "source": [
    "# \"-=\": Restar y Asignar"
   ]
  },
  {
   "cell_type": "code",
   "execution_count": 33,
   "id": "d9124727-347c-4e89-8095-0c8ce6279a61",
   "metadata": {},
   "outputs": [
    {
     "name": "stdout",
     "output_type": "stream",
     "text": [
      "num_1 antes de la operación:  20\n",
      "num_1 despues de la operación:  17\n"
     ]
    }
   ],
   "source": [
    "num_1 = 20\n",
    "num_2 = 3\n",
    "print(\"num_1 antes de la operación: \", num_1)\n",
    "num_1 -= num_2\n",
    "print(\"num_1 despues de la operación: \", num_1)"
   ]
  },
  {
   "cell_type": "code",
   "execution_count": 35,
   "id": "6d31f3ef-caec-4c31-b72e-b9342c6c20f4",
   "metadata": {},
   "outputs": [],
   "source": [
    "# \"*=\": Multiplicar y Asignar"
   ]
  },
  {
   "cell_type": "code",
   "execution_count": 37,
   "id": "13a19cd0-98c4-4c09-a1f8-ab7e9ac6f5e7",
   "metadata": {},
   "outputs": [
    {
     "name": "stdout",
     "output_type": "stream",
     "text": [
      "num_1 antes de la operación:  20\n",
      "num_1 despues de la operación:  60\n"
     ]
    }
   ],
   "source": [
    "num_1 = 20\n",
    "num_2 = 3\n",
    "print(\"num_1 antes de la operación: \", num_1)\n",
    "num_1 *= num_2\n",
    "print(\"num_1 despues de la operación: \", num_1)"
   ]
  },
  {
   "cell_type": "code",
   "execution_count": 39,
   "id": "bed38928-4058-4cea-b03f-571ad82a0a75",
   "metadata": {},
   "outputs": [],
   "source": [
    "# \"/=\": Dividir y Asignar"
   ]
  },
  {
   "cell_type": "code",
   "execution_count": 41,
   "id": "dae7cff6-49b3-436f-92ee-79215194e020",
   "metadata": {},
   "outputs": [
    {
     "name": "stdout",
     "output_type": "stream",
     "text": [
      "num_1 antes de la operación:  20\n",
      "num_1 despues de la operación:  6.666666666666667\n"
     ]
    }
   ],
   "source": [
    "num_1 = 20\n",
    "num_2 = 3\n",
    "print(\"num_1 antes de la operación: \", num_1)\n",
    "num_1 /= num_2\n",
    "print(\"num_1 despues de la operación: \", num_1)"
   ]
  },
  {
   "cell_type": "code",
   "execution_count": 43,
   "id": "5115d6c1-e355-4e87-8941-34571d536835",
   "metadata": {},
   "outputs": [],
   "source": [
    "# \"//=\": Dividir con Redondeo hacia abajo y Asignar"
   ]
  },
  {
   "cell_type": "code",
   "execution_count": 45,
   "id": "51b513bc-2e80-426b-9e53-34173ae85a58",
   "metadata": {},
   "outputs": [
    {
     "name": "stdout",
     "output_type": "stream",
     "text": [
      "num_1 antes de la operación:  20\n",
      "num_1 despues de la operación:  6\n"
     ]
    }
   ],
   "source": [
    "num_1 = 20\n",
    "num_2 = 3\n",
    "print(\"num_1 antes de la operación: \", num_1)\n",
    "num_1 //= num_2\n",
    "print(\"num_1 despues de la operación: \", num_1)"
   ]
  },
  {
   "cell_type": "code",
   "execution_count": 49,
   "id": "acc92a87-e797-44af-bf97-be1bb73dac3d",
   "metadata": {},
   "outputs": [],
   "source": [
    "# \"%=\": Módulo y Asignar = El número que queda despues de haber dividido, residuo"
   ]
  },
  {
   "cell_type": "code",
   "execution_count": 51,
   "id": "7a3997f9-3cf0-49f3-95a6-07f82f300ed2",
   "metadata": {},
   "outputs": [
    {
     "name": "stdout",
     "output_type": "stream",
     "text": [
      "num_1 antes de la operación:  20\n",
      "num_1 despues de la operación:  2\n"
     ]
    }
   ],
   "source": [
    "num_1 = 20\n",
    "num_2 = 3\n",
    "print(\"num_1 antes de la operación: \", num_1)\n",
    "num_1 %= num_2\n",
    "print(\"num_1 despues de la operación: \", num_1)"
   ]
  },
  {
   "cell_type": "code",
   "execution_count": 53,
   "id": "18686ea4-3033-4f67-b770-b9e11bbe8091",
   "metadata": {},
   "outputs": [],
   "source": [
    "# \"**=\": Exponente y Asignar"
   ]
  },
  {
   "cell_type": "code",
   "execution_count": 57,
   "id": "42013215-97cc-4697-82fc-55c2ea540e56",
   "metadata": {},
   "outputs": [
    {
     "name": "stdout",
     "output_type": "stream",
     "text": [
      "num_1 antes de la operación:  20\n",
      "num_1 despues de la operación:  8000\n"
     ]
    }
   ],
   "source": [
    "num_1 = 20\n",
    "num_2 = 3\n",
    "print(\"num_1 antes de la operación: \", num_1)\n",
    "num_1 **= num_2\n",
    "print(\"num_1 despues de la operación: \", num_1)"
   ]
  },
  {
   "cell_type": "markdown",
   "id": "275c8857-b51a-4df2-acd2-c79151f1e4de",
   "metadata": {},
   "source": [
    "### - Operadores de Lógicos\n",
    "- Son usados principalmente para declaraciones condicionales\n",
    "- Son indicadores estructurales\n",
    "- Se les conoce como Conectores Lógicos\n",
    "- Hay 3 tipos de Operadores Lógicos:\n",
    "    - AND (y) - Regresa True si ambas operaciones son verdaderas\n",
    "    - OR (o) - Regresa True si una de las operaciones es verdadera\n",
    "    - NOT (lo opuesto) - Regresa True si la operación es False"
   ]
  },
  {
   "cell_type": "code",
   "execution_count": 63,
   "id": "af01c598-d48e-41bd-bb08-936a838baa6e",
   "metadata": {},
   "outputs": [],
   "source": [
    "# AND (y) - Regresa True si ambas operaciones son verdaderas\n",
    "# Todas las condiciones deben ser Verdaderas"
   ]
  },
  {
   "cell_type": "code",
   "execution_count": 65,
   "id": "f3483019-5c63-4f1d-8862-cb4214cecd86",
   "metadata": {},
   "outputs": [
    {
     "name": "stdout",
     "output_type": "stream",
     "text": [
      "num_1 <= num_2 and num_1 != num_2 True\n"
     ]
    }
   ],
   "source": [
    "num_1 = 11\n",
    "num_2 = 55\n",
    "# num_1 <= num_2 = True\n",
    "# num_1 != num_2 = True\n",
    "print(\"num_1 <= num_2 and num_1 != num_2\", num_1 <= num_2 and num_1 != num_2)"
   ]
  },
  {
   "cell_type": "code",
   "execution_count": 67,
   "id": "fc0008bc-3e2d-451a-84d1-827c6daeee38",
   "metadata": {},
   "outputs": [
    {
     "name": "stdout",
     "output_type": "stream",
     "text": [
      "num_1 <= num_2 and num_1 != num_2 False\n"
     ]
    }
   ],
   "source": [
    "num_1 = 11\n",
    "num_2 = 11\n",
    "# num_1 <= num_2 = True\n",
    "# num_1 != num_2 = False\n",
    "print(\"num_1 <= num_2 and num_1 != num_2\", num_1 <= num_2 and num_1 != num_2)"
   ]
  },
  {
   "cell_type": "code",
   "execution_count": 69,
   "id": "be0aa3c4-f7e0-49bf-abcc-26fb029e4a94",
   "metadata": {},
   "outputs": [],
   "source": [
    "# OR (o) - Regresa True si una de las operaciones es verdadera"
   ]
  },
  {
   "cell_type": "code",
   "execution_count": 71,
   "id": "74958194-b21c-4d3b-a4a6-40a5866450bd",
   "metadata": {},
   "outputs": [
    {
     "name": "stdout",
     "output_type": "stream",
     "text": [
      "num_1 <= num_2 or num_1 != num_2 True\n"
     ]
    }
   ],
   "source": [
    "num_1 = 11\n",
    "num_2 = 55\n",
    "# num_1 <= num_2 = True\n",
    "# num_1 != num_2 = True\n",
    "print(\"num_1 <= num_2 or num_1 != num_2\", num_1 <= num_2 or num_1 != num_2)"
   ]
  },
  {
   "cell_type": "code",
   "execution_count": 73,
   "id": "1de760e3-554c-4d07-b87c-e48948be425f",
   "metadata": {},
   "outputs": [
    {
     "name": "stdout",
     "output_type": "stream",
     "text": [
      "num_1 <= num_2 or num_1 != num_2 True\n"
     ]
    }
   ],
   "source": [
    "num_1 = 11\n",
    "num_2 = 11\n",
    "# num_1 <= num_2 = True\n",
    "# num_1 != num_2 = False\n",
    "print(\"num_1 <= num_2 or num_1 != num_2\", num_1 <= num_2 or num_1 != num_2)"
   ]
  },
  {
   "cell_type": "code",
   "execution_count": 77,
   "id": "79104402-a5ca-4bf1-a033-1becb7dbf5cb",
   "metadata": {},
   "outputs": [],
   "source": [
    "# NOT (lo opuesto) - Regresa True si la operación es False\n",
    "# La condición debe ser False"
   ]
  },
  {
   "cell_type": "code",
   "execution_count": 81,
   "id": "5523f7cb-c01f-4e8d-b1e8-17fbc8aafaaa",
   "metadata": {},
   "outputs": [
    {
     "name": "stdout",
     "output_type": "stream",
     "text": [
      "not num_1 <= num_2 False\n"
     ]
    }
   ],
   "source": [
    "num_1 = 11\n",
    "num_2 = 55\n",
    "# num_1 <= num_2 = True\n",
    "print(\"not num_1 <= num_2\", not num_1 <= num_2)"
   ]
  },
  {
   "cell_type": "code",
   "execution_count": 83,
   "id": "11687bef-f73c-40dd-993d-60b0019b3365",
   "metadata": {},
   "outputs": [
    {
     "name": "stdout",
     "output_type": "stream",
     "text": [
      "not num_1 > num_2 True\n"
     ]
    }
   ],
   "source": [
    "num_1 = 11\n",
    "num_2 = 55\n",
    "# num_1 > num_2 = False\n",
    "print(\"not num_1 > num_2\", not num_1 > num_2)"
   ]
  },
  {
   "cell_type": "markdown",
   "id": "92340aef-5776-4301-9eeb-54bea4e456a7",
   "metadata": {},
   "source": [
    "### - Operadores de Afiliación\n",
    "- Validan los elementos en listas, cadenas y tuplas\n",
    "- Validan si una variable está presente en una secuencia\n",
    "- Regresan un valor Booleano con el resultado True/False\n",
    "- Regresan True si el valor está presente en la secuencia\n",
    "- Regresan False si el valor no se encuentra en la secuencia\n",
    "- Hay 2 operadores:\n",
    "    - IN - El valor está en la secuencia\n",
    "    - NOT IN -El valor no está en la secuencia"
   ]
  },
  {
   "cell_type": "code",
   "execution_count": 87,
   "id": "09515243-3dba-443c-8c96-affa76604b0d",
   "metadata": {},
   "outputs": [],
   "source": [
    "# IN - El valor está en la secuencia"
   ]
  },
  {
   "cell_type": "code",
   "execution_count": 89,
   "id": "628622ae-eff1-40aa-a08c-828e41ce1c8f",
   "metadata": {},
   "outputs": [
    {
     "name": "stdout",
     "output_type": "stream",
     "text": [
      "'a' in my_string True\n"
     ]
    }
   ],
   "source": [
    "my_string = \"BackEnd Python\"\n",
    "print(\"'a' in my_string\", 'a' in my_string)"
   ]
  },
  {
   "cell_type": "code",
   "execution_count": 91,
   "id": "e62c14cf-d034-4987-8ffa-83be23e45561",
   "metadata": {},
   "outputs": [
    {
     "name": "stdout",
     "output_type": "stream",
     "text": [
      "'i' in my_string False\n"
     ]
    }
   ],
   "source": [
    "my_string = \"BackEnd Python\"\n",
    "print(\"'i' in my_string\", 'i' in my_string)"
   ]
  },
  {
   "cell_type": "code",
   "execution_count": 95,
   "id": "74587234-1e02-4b82-8025-f59cfb86ae8f",
   "metadata": {},
   "outputs": [
    {
     "name": "stdout",
     "output_type": "stream",
     "text": [
      "5 in my_list False\n"
     ]
    }
   ],
   "source": [
    "my_list = [1, 154, 321, 22, 11]\n",
    "print(\"5 in my_list\", 5 in my_list)"
   ]
  },
  {
   "cell_type": "code",
   "execution_count": 97,
   "id": "0d6a0f7c-d7b7-448a-a8f1-2480ad25cd0d",
   "metadata": {},
   "outputs": [
    {
     "name": "stdout",
     "output_type": "stream",
     "text": [
      "5 in my_list True\n"
     ]
    }
   ],
   "source": [
    "my_list = [1, 154, 321, 22, 11, 5]\n",
    "print(\"5 in my_list\", 5 in my_list)"
   ]
  },
  {
   "cell_type": "code",
   "execution_count": 99,
   "id": "72e73c08-6f03-448a-aa80-6f9bef36654a",
   "metadata": {},
   "outputs": [
    {
     "data": {
      "text/plain": [
       "[1, 154, 321, 22, 11, 5]"
      ]
     },
     "execution_count": 99,
     "metadata": {},
     "output_type": "execute_result"
    }
   ],
   "source": [
    "my_list"
   ]
  },
  {
   "cell_type": "code",
   "execution_count": 105,
   "id": "84f0af0a-2699-4c7e-b07f-8a6f427626d8",
   "metadata": {},
   "outputs": [
    {
     "name": "stdout",
     "output_type": "stream",
     "text": [
      "5 in my_list True\n"
     ]
    }
   ],
   "source": [
    "my_set = {1, 154, 321, 22, 11, 5, 1, 154, 321, 22, 5, 11}\n",
    "print(\"5 in my_list\", 5 in my_set)"
   ]
  },
  {
   "cell_type": "code",
   "execution_count": 107,
   "id": "bf816456-f0eb-476b-91aa-3990b9b90b0e",
   "metadata": {},
   "outputs": [
    {
     "data": {
      "text/plain": [
       "{1, 5, 11, 22, 154, 321}"
      ]
     },
     "execution_count": 107,
     "metadata": {},
     "output_type": "execute_result"
    }
   ],
   "source": [
    "my_set"
   ]
  },
  {
   "cell_type": "code",
   "execution_count": 109,
   "id": "8f95bd61-20c3-4487-9905-3f694e307c52",
   "metadata": {},
   "outputs": [],
   "source": [
    "# NOT IN -El valor no está en la secuencia"
   ]
  },
  {
   "cell_type": "code",
   "execution_count": 111,
   "id": "8c1c07c2-7eb2-4bca-a9da-21976b8b3bea",
   "metadata": {},
   "outputs": [
    {
     "name": "stdout",
     "output_type": "stream",
     "text": [
      "'a' not in my_string False\n"
     ]
    }
   ],
   "source": [
    "my_string = \"BackEnd Python\"\n",
    "print(\"'a' not in my_string\", 'a' not in my_string)"
   ]
  },
  {
   "cell_type": "code",
   "execution_count": 113,
   "id": "e2f2eab3-e63b-46c3-82e8-86bb1399abbc",
   "metadata": {},
   "outputs": [
    {
     "name": "stdout",
     "output_type": "stream",
     "text": [
      "'i' not in my_string True\n"
     ]
    }
   ],
   "source": [
    "my_string = \"BackEnd Python\"\n",
    "print(\"'i' not in my_string\", 'i' not in my_string)"
   ]
  },
  {
   "cell_type": "code",
   "execution_count": 115,
   "id": "495fe8af-9dff-42a2-b8e5-8bb536004724",
   "metadata": {},
   "outputs": [
    {
     "name": "stdout",
     "output_type": "stream",
     "text": [
      "5 not in my_list True\n"
     ]
    }
   ],
   "source": [
    "my_list = [1, 154, 321, 22, 11]\n",
    "print(\"5 not in my_list\", 5 not in my_list)"
   ]
  },
  {
   "cell_type": "code",
   "execution_count": 117,
   "id": "223abd21-a33e-45ba-92ff-bf23d81b4272",
   "metadata": {},
   "outputs": [
    {
     "name": "stdout",
     "output_type": "stream",
     "text": [
      "5 not in my_list False\n"
     ]
    }
   ],
   "source": [
    "my_list = [1, 154, 321, 22, 11, 5]\n",
    "print(\"5 not in my_list\", 5 not in my_list)"
   ]
  },
  {
   "cell_type": "code",
   "execution_count": 119,
   "id": "a1234398-fcbb-4d4b-8a53-3069af71f495",
   "metadata": {},
   "outputs": [
    {
     "name": "stdout",
     "output_type": "stream",
     "text": [
      "5 not in my_list False\n"
     ]
    }
   ],
   "source": [
    "my_set = {1, 154, 321, 22, 11, 5, 1, 154, 321, 22, 5, 11}\n",
    "print(\"5 not in my_list\", 5 not in my_set)"
   ]
  },
  {
   "cell_type": "markdown",
   "id": "ea28344d-1a0c-4ab4-b6ca-12112d0299fd",
   "metadata": {},
   "source": [
    "### - Operadores de Identidad\n",
    "- Son usados para comparar la ubicación en memoria de dos objetos\n",
    "- Se utilizan para validar si los valores comparten el mismo espacio en memoria o no\n",
    "- Regresan True si lo comparten, y False si no lo comparten\n",
    "- Hay 2 operadores:\n",
    "    - IS\n",
    "    - IS NOT"
   ]
  },
  {
   "cell_type": "code",
   "execution_count": 123,
   "id": "c7d4726c-def6-4812-b336-513dd1767082",
   "metadata": {},
   "outputs": [],
   "source": [
    "# IS"
   ]
  },
  {
   "cell_type": "code",
   "execution_count": 125,
   "id": "8c2a5663-a2fb-41e9-b553-78c1c4c64c4d",
   "metadata": {},
   "outputs": [
    {
     "name": "stdout",
     "output_type": "stream",
     "text": [
      "num_1 is num_2 False\n"
     ]
    }
   ],
   "source": [
    "num_1 = 11\n",
    "num_2 = 55\n",
    "print(\"num_1 is num_2\", num_1 is num_2)"
   ]
  },
  {
   "cell_type": "code",
   "execution_count": 127,
   "id": "f38d2b76-2e2e-4851-b2e7-2def72172bfd",
   "metadata": {},
   "outputs": [
    {
     "name": "stdout",
     "output_type": "stream",
     "text": [
      "num_1 is num_2 True\n"
     ]
    }
   ],
   "source": [
    "num_1 = 77\n",
    "num_2 = 77\n",
    "print(\"num_1 is num_2\", num_1 is num_2)"
   ]
  },
  {
   "cell_type": "code",
   "execution_count": 129,
   "id": "af6bcf5b-0f74-44f1-bb8f-bf8bf20bd551",
   "metadata": {},
   "outputs": [],
   "source": [
    "# IS NOT"
   ]
  },
  {
   "cell_type": "code",
   "execution_count": 131,
   "id": "46475f7b-bfbb-45d9-b134-059a47033431",
   "metadata": {},
   "outputs": [
    {
     "name": "stdout",
     "output_type": "stream",
     "text": [
      "num_1 is not num_2 True\n"
     ]
    }
   ],
   "source": [
    "num_1 = 11\n",
    "num_2 = 55\n",
    "print(\"num_1 is not num_2\", num_1 is not num_2)"
   ]
  },
  {
   "cell_type": "code",
   "execution_count": 133,
   "id": "314ee45a-f637-4a48-aac7-72aabfbdfcbe",
   "metadata": {},
   "outputs": [
    {
     "name": "stdout",
     "output_type": "stream",
     "text": [
      "num_1 is not num_2 False\n"
     ]
    }
   ],
   "source": [
    "num_1 = 77\n",
    "num_2 = 77\n",
    "print(\"num_1 is not num_2\", num_1 is not num_2)"
   ]
  },
  {
   "cell_type": "markdown",
   "id": "93b1c435-73e2-4625-ab11-74598f78068f",
   "metadata": {},
   "source": [
    "### - Conversión de Tipos\n",
    "- Es el proceso de conversión de un tipo de dato a otro tipo de dato\n",
    "- Es un paso muy importante para combinar múltiples fuentes de datos en un formato específico\n",
    "- Hay 2 tipos:\n",
    "    - Conversión Implícita: Hecha forma automática por el intérprete de Python\n",
    "    - Conversión Explícita"
   ]
  },
  {
   "cell_type": "code",
   "execution_count": 137,
   "id": "55648f3d-4568-4a62-961e-b931d35a4c69",
   "metadata": {},
   "outputs": [],
   "source": [
    "# Conversión Implícita"
   ]
  },
  {
   "cell_type": "code",
   "execution_count": 139,
   "id": "de47feb5-fe77-4940-bce7-ba2106403fd5",
   "metadata": {},
   "outputs": [
    {
     "data": {
      "text/plain": [
       "16.0"
      ]
     },
     "execution_count": 139,
     "metadata": {},
     "output_type": "execute_result"
    }
   ],
   "source": [
    "14 + 2.0"
   ]
  },
  {
   "cell_type": "code",
   "execution_count": 141,
   "id": "d7a1533c-1b70-4ba2-965f-091611446733",
   "metadata": {},
   "outputs": [
    {
     "data": {
      "text/plain": [
       "19.0"
      ]
     },
     "execution_count": 141,
     "metadata": {},
     "output_type": "execute_result"
    }
   ],
   "source": [
    "14 + 2.0 + 3"
   ]
  },
  {
   "cell_type": "code",
   "execution_count": 143,
   "id": "64a7bef1-5228-428e-9501-18c35343806a",
   "metadata": {},
   "outputs": [],
   "source": [
    "# Conversión Explícita"
   ]
  },
  {
   "cell_type": "code",
   "execution_count": 145,
   "id": "5564bd8a-9da1-4499-88db-a8c399cf7719",
   "metadata": {},
   "outputs": [
    {
     "data": {
      "text/plain": [
       "199"
      ]
     },
     "execution_count": 145,
     "metadata": {},
     "output_type": "execute_result"
    }
   ],
   "source": [
    "int(199.99)"
   ]
  },
  {
   "cell_type": "code",
   "execution_count": 147,
   "id": "660b155a-b317-483c-b143-c6c00a1e84f1",
   "metadata": {},
   "outputs": [
    {
     "data": {
      "text/plain": [
       "58.0"
      ]
     },
     "execution_count": 147,
     "metadata": {},
     "output_type": "execute_result"
    }
   ],
   "source": [
    "float(58)"
   ]
  },
  {
   "cell_type": "code",
   "execution_count": 149,
   "id": "5d223590-09cc-449b-b14a-d07b3b67e15b",
   "metadata": {},
   "outputs": [
    {
     "data": {
      "text/plain": [
       "(4+0j)"
      ]
     },
     "execution_count": 149,
     "metadata": {},
     "output_type": "execute_result"
    }
   ],
   "source": [
    "complex(4)"
   ]
  },
  {
   "cell_type": "code",
   "execution_count": 151,
   "id": "7a48a51b-e398-432e-9815-6553661114eb",
   "metadata": {},
   "outputs": [],
   "source": [
    "# Conversión int()"
   ]
  },
  {
   "cell_type": "code",
   "execution_count": 153,
   "id": "78bb22e1-1251-4648-99ed-b2baca6943a5",
   "metadata": {},
   "outputs": [
    {
     "data": {
      "text/plain": [
       "10"
      ]
     },
     "execution_count": 153,
     "metadata": {},
     "output_type": "execute_result"
    }
   ],
   "source": [
    "int(10.78) # Float a Int"
   ]
  },
  {
   "cell_type": "code",
   "execution_count": 155,
   "id": "45e20c5e-6f5b-4f1f-8401-d0f82ded5d80",
   "metadata": {},
   "outputs": [
    {
     "data": {
      "text/plain": [
       "0"
      ]
     },
     "execution_count": 155,
     "metadata": {},
     "output_type": "execute_result"
    }
   ],
   "source": [
    "int(False) # Bool a Int"
   ]
  },
  {
   "cell_type": "code",
   "execution_count": 159,
   "id": "f4a6bc06-1424-474c-8ece-9f6f47613817",
   "metadata": {},
   "outputs": [
    {
     "ename": "TypeError",
     "evalue": "int() argument must be a string, a bytes-like object or a real number, not 'complex'",
     "output_type": "error",
     "traceback": [
      "\u001b[1;31m---------------------------------------------------------------------------\u001b[0m",
      "\u001b[1;31mTypeError\u001b[0m                                 Traceback (most recent call last)",
      "Cell \u001b[1;32mIn[159], line 2\u001b[0m\n\u001b[0;32m      1\u001b[0m \u001b[38;5;66;03m# Error\u001b[39;00m\n\u001b[1;32m----> 2\u001b[0m \u001b[38;5;28mint\u001b[39m(\u001b[38;5;241m5\u001b[39m\u001b[38;5;241m+\u001b[39m\u001b[38;5;241m3\u001b[39mj)\n",
      "\u001b[1;31mTypeError\u001b[0m: int() argument must be a string, a bytes-like object or a real number, not 'complex'"
     ]
    }
   ],
   "source": [
    "# Error\n",
    "int(5+3j) # Complex a Int"
   ]
  },
  {
   "cell_type": "code",
   "execution_count": 163,
   "id": "f72cd101-0a8b-40cb-8e75-ba3a96c46c8e",
   "metadata": {},
   "outputs": [
    {
     "data": {
      "text/plain": [
       "5"
      ]
     },
     "execution_count": 163,
     "metadata": {},
     "output_type": "execute_result"
    }
   ],
   "source": [
    "int(\"5\") # String a Int"
   ]
  },
  {
   "cell_type": "code",
   "execution_count": 171,
   "id": "72400b93-43a7-461c-8b73-a819b93b59cd",
   "metadata": {},
   "outputs": [
    {
     "ename": "ValueError",
     "evalue": "invalid literal for int() with base 10: '120.5'",
     "output_type": "error",
     "traceback": [
      "\u001b[1;31m---------------------------------------------------------------------------\u001b[0m",
      "\u001b[1;31mValueError\u001b[0m                                Traceback (most recent call last)",
      "Cell \u001b[1;32mIn[171], line 1\u001b[0m\n\u001b[1;32m----> 1\u001b[0m \u001b[38;5;28mint\u001b[39m(\u001b[38;5;124m\"\u001b[39m\u001b[38;5;124m120.5\u001b[39m\u001b[38;5;124m\"\u001b[39m)\n",
      "\u001b[1;31mValueError\u001b[0m: invalid literal for int() with base 10: '120.5'"
     ]
    }
   ],
   "source": [
    "int(\"120.5\") # String a Int"
   ]
  },
  {
   "cell_type": "code",
   "execution_count": 213,
   "id": "47ef57bf-7178-4c75-a8e5-485ac69121dc",
   "metadata": {},
   "outputs": [],
   "source": [
    "# Conversión flat()"
   ]
  },
  {
   "cell_type": "code",
   "execution_count": 175,
   "id": "ad7404ec-3585-427e-a74e-74650b51cada",
   "metadata": {},
   "outputs": [
    {
     "data": {
      "text/plain": [
       "23.0"
      ]
     },
     "execution_count": 175,
     "metadata": {},
     "output_type": "execute_result"
    }
   ],
   "source": [
    "float(23) # Int a Float"
   ]
  },
  {
   "cell_type": "code",
   "execution_count": 179,
   "id": "aa2691d4-b76b-477e-8bd0-c97475934b52",
   "metadata": {},
   "outputs": [
    {
     "ename": "TypeError",
     "evalue": "float() argument must be a string or a real number, not 'complex'",
     "output_type": "error",
     "traceback": [
      "\u001b[1;31m---------------------------------------------------------------------------\u001b[0m",
      "\u001b[1;31mTypeError\u001b[0m                                 Traceback (most recent call last)",
      "Cell \u001b[1;32mIn[179], line 2\u001b[0m\n\u001b[0;32m      1\u001b[0m \u001b[38;5;66;03m# Error\u001b[39;00m\n\u001b[1;32m----> 2\u001b[0m \u001b[38;5;28mfloat\u001b[39m(\u001b[38;5;241m23\u001b[39m\u001b[38;5;241m+\u001b[39m\u001b[38;5;241m3\u001b[39mj)\n",
      "\u001b[1;31mTypeError\u001b[0m: float() argument must be a string or a real number, not 'complex'"
     ]
    }
   ],
   "source": [
    "# Error\n",
    "float(23+3j) # Complex a Float"
   ]
  },
  {
   "cell_type": "code",
   "execution_count": 181,
   "id": "1574ed8f-2eb3-479f-aa4f-013ef4590a88",
   "metadata": {},
   "outputs": [
    {
     "data": {
      "text/plain": [
       "1.0"
      ]
     },
     "execution_count": 181,
     "metadata": {},
     "output_type": "execute_result"
    }
   ],
   "source": [
    "float(True) # Bool a Float"
   ]
  },
  {
   "cell_type": "code",
   "execution_count": 183,
   "id": "968eefe3-9cdb-4717-91c8-33d4e34ebfb9",
   "metadata": {},
   "outputs": [
    {
     "data": {
      "text/plain": [
       "843.29"
      ]
     },
     "execution_count": 183,
     "metadata": {},
     "output_type": "execute_result"
    }
   ],
   "source": [
    "float(\"843.29\") # String a Float"
   ]
  },
  {
   "cell_type": "code",
   "execution_count": 185,
   "id": "e119c9f6-4172-422d-ad47-7a6112c82872",
   "metadata": {},
   "outputs": [
    {
     "data": {
      "text/plain": [
       "843.0"
      ]
     },
     "execution_count": 185,
     "metadata": {},
     "output_type": "execute_result"
    }
   ],
   "source": [
    "float(\"843\") # String a Float"
   ]
  },
  {
   "cell_type": "code",
   "execution_count": 187,
   "id": "4bc09859-98dc-4a44-9439-77097bbb264d",
   "metadata": {},
   "outputs": [
    {
     "ename": "ValueError",
     "evalue": "could not convert string to float: '843t'",
     "output_type": "error",
     "traceback": [
      "\u001b[1;31m---------------------------------------------------------------------------\u001b[0m",
      "\u001b[1;31mValueError\u001b[0m                                Traceback (most recent call last)",
      "Cell \u001b[1;32mIn[187], line 2\u001b[0m\n\u001b[0;32m      1\u001b[0m \u001b[38;5;66;03m# Error\u001b[39;00m\n\u001b[1;32m----> 2\u001b[0m \u001b[38;5;28mfloat\u001b[39m(\u001b[38;5;124m\"\u001b[39m\u001b[38;5;124m843t\u001b[39m\u001b[38;5;124m\"\u001b[39m)\n",
      "\u001b[1;31mValueError\u001b[0m: could not convert string to float: '843t'"
     ]
    }
   ],
   "source": [
    "# Error\n",
    "float(\"843t\") # String a Float"
   ]
  },
  {
   "cell_type": "code",
   "execution_count": 189,
   "id": "2a7472a9-24d9-4af5-811d-b9e13677b40f",
   "metadata": {},
   "outputs": [
    {
     "ename": "ValueError",
     "evalue": "could not convert string to float: 'True'",
     "output_type": "error",
     "traceback": [
      "\u001b[1;31m---------------------------------------------------------------------------\u001b[0m",
      "\u001b[1;31mValueError\u001b[0m                                Traceback (most recent call last)",
      "Cell \u001b[1;32mIn[189], line 2\u001b[0m\n\u001b[0;32m      1\u001b[0m \u001b[38;5;66;03m# Error\u001b[39;00m\n\u001b[1;32m----> 2\u001b[0m \u001b[38;5;28mfloat\u001b[39m(\u001b[38;5;124m\"\u001b[39m\u001b[38;5;124mTrue\u001b[39m\u001b[38;5;124m\"\u001b[39m)\n",
      "\u001b[1;31mValueError\u001b[0m: could not convert string to float: 'True'"
     ]
    }
   ],
   "source": [
    "# Error\n",
    "float(\"True\") # String a Float"
   ]
  },
  {
   "cell_type": "code",
   "execution_count": 193,
   "id": "f440db88-d964-4c1c-8b5e-5354c946887d",
   "metadata": {},
   "outputs": [],
   "source": [
    "# Conversión complex()"
   ]
  },
  {
   "cell_type": "code",
   "execution_count": 197,
   "id": "4d4dc2b8-1992-4c65-ac20-b83fcb579202",
   "metadata": {},
   "outputs": [
    {
     "data": {
      "text/plain": [
       "(42+0j)"
      ]
     },
     "execution_count": 197,
     "metadata": {},
     "output_type": "execute_result"
    }
   ],
   "source": [
    "complex(42) # Int a Complex"
   ]
  },
  {
   "cell_type": "code",
   "execution_count": 199,
   "id": "82dfb11d-6c9c-47bf-b1a5-f834ef981ed2",
   "metadata": {},
   "outputs": [
    {
     "data": {
      "text/plain": [
       "(92.8+0j)"
      ]
     },
     "execution_count": 199,
     "metadata": {},
     "output_type": "execute_result"
    }
   ],
   "source": [
    "complex(92.8) # Float a Complex"
   ]
  },
  {
   "cell_type": "code",
   "execution_count": 201,
   "id": "890ec1d4-ff99-4247-a8ad-2d1d34496f9a",
   "metadata": {},
   "outputs": [
    {
     "data": {
      "text/plain": [
       "(1+0j)"
      ]
     },
     "execution_count": 201,
     "metadata": {},
     "output_type": "execute_result"
    }
   ],
   "source": [
    "complex(True) # Bool a Complex"
   ]
  },
  {
   "cell_type": "code",
   "execution_count": 203,
   "id": "d8a26349-4456-48af-afdb-dcf03a2fd24f",
   "metadata": {},
   "outputs": [
    {
     "data": {
      "text/plain": [
       "(24+0j)"
      ]
     },
     "execution_count": 203,
     "metadata": {},
     "output_type": "execute_result"
    }
   ],
   "source": [
    "complex(\"24\") # String a Complex"
   ]
  },
  {
   "cell_type": "code",
   "execution_count": 205,
   "id": "bf395300-ac47-4042-b0d9-9cdaa76abda2",
   "metadata": {},
   "outputs": [
    {
     "data": {
      "text/plain": [
       "(24.67+0j)"
      ]
     },
     "execution_count": 205,
     "metadata": {},
     "output_type": "execute_result"
    }
   ],
   "source": [
    "complex(\"24.67\") # String a Complex"
   ]
  },
  {
   "cell_type": "code",
   "execution_count": 209,
   "id": "c69fb38b-7192-443c-ae3c-cc4014d10d8f",
   "metadata": {},
   "outputs": [
    {
     "ename": "ValueError",
     "evalue": "complex() arg is a malformed string",
     "output_type": "error",
     "traceback": [
      "\u001b[1;31m---------------------------------------------------------------------------\u001b[0m",
      "\u001b[1;31mValueError\u001b[0m                                Traceback (most recent call last)",
      "Cell \u001b[1;32mIn[209], line 2\u001b[0m\n\u001b[0;32m      1\u001b[0m \u001b[38;5;66;03m# Error\u001b[39;00m\n\u001b[1;32m----> 2\u001b[0m \u001b[38;5;28mcomplex\u001b[39m(\u001b[38;5;124m\"\u001b[39m\u001b[38;5;124mBackEnd\u001b[39m\u001b[38;5;124m\"\u001b[39m)\n",
      "\u001b[1;31mValueError\u001b[0m: complex() arg is a malformed string"
     ]
    }
   ],
   "source": [
    "# Error\n",
    "complex(\"BackEnd\") # String a Complex"
   ]
  },
  {
   "cell_type": "code",
   "execution_count": 211,
   "id": "35e79e58-0f71-43e6-b810-5d46f474d5b6",
   "metadata": {},
   "outputs": [
    {
     "data": {
      "text/plain": [
       "10j"
      ]
     },
     "execution_count": 211,
     "metadata": {},
     "output_type": "execute_result"
    }
   ],
   "source": [
    "complex(\"10j\") # String a Complex"
   ]
  },
  {
   "cell_type": "code",
   "execution_count": 237,
   "id": "d095e402-9629-4fba-a72f-e0c97e4f96bc",
   "metadata": {},
   "outputs": [],
   "source": [
    "# Conversión bool()"
   ]
  },
  {
   "cell_type": "code",
   "execution_count": 217,
   "id": "32f9a8bf-d8f0-491d-89ef-76d100c29768",
   "metadata": {},
   "outputs": [
    {
     "data": {
      "text/plain": [
       "False"
      ]
     },
     "execution_count": 217,
     "metadata": {},
     "output_type": "execute_result"
    }
   ],
   "source": [
    "bool(0) # Int a Bool"
   ]
  },
  {
   "cell_type": "code",
   "execution_count": 219,
   "id": "f083f7f6-dd13-48ae-9bca-fbe98dd7c4e3",
   "metadata": {},
   "outputs": [
    {
     "data": {
      "text/plain": [
       "True"
      ]
     },
     "execution_count": 219,
     "metadata": {},
     "output_type": "execute_result"
    }
   ],
   "source": [
    "bool(7) # Int a Bool"
   ]
  },
  {
   "cell_type": "code",
   "execution_count": 221,
   "id": "425e7253-3ce9-4ae4-a41c-f1cf0da4919a",
   "metadata": {},
   "outputs": [
    {
     "data": {
      "text/plain": [
       "True"
      ]
     },
     "execution_count": 221,
     "metadata": {},
     "output_type": "execute_result"
    }
   ],
   "source": [
    "bool(1.8) # Float a Bool"
   ]
  },
  {
   "cell_type": "code",
   "execution_count": 223,
   "id": "300a454c-b838-4b4d-9a76-d79aaffdd0d8",
   "metadata": {},
   "outputs": [
    {
     "data": {
      "text/plain": [
       "True"
      ]
     },
     "execution_count": 223,
     "metadata": {},
     "output_type": "execute_result"
    }
   ],
   "source": [
    "bool(-1.8) # Float a Bool"
   ]
  },
  {
   "cell_type": "code",
   "execution_count": 225,
   "id": "6d680d53-2e67-4c18-b266-c6e32d0dfcdc",
   "metadata": {},
   "outputs": [
    {
     "data": {
      "text/plain": [
       "False"
      ]
     },
     "execution_count": 225,
     "metadata": {},
     "output_type": "execute_result"
    }
   ],
   "source": [
    "bool(0.0) # Float a Bool"
   ]
  },
  {
   "cell_type": "code",
   "execution_count": 227,
   "id": "35873776-1a9c-4ec2-845e-55418dd5b526",
   "metadata": {},
   "outputs": [
    {
     "data": {
      "text/plain": [
       "True"
      ]
     },
     "execution_count": 227,
     "metadata": {},
     "output_type": "execute_result"
    }
   ],
   "source": [
    "bool(0+3j) # Complex a Bool"
   ]
  },
  {
   "cell_type": "code",
   "execution_count": 229,
   "id": "bb6d2e53-9067-4740-836f-c7e4dd1be47c",
   "metadata": {},
   "outputs": [
    {
     "data": {
      "text/plain": [
       "False"
      ]
     },
     "execution_count": 229,
     "metadata": {},
     "output_type": "execute_result"
    }
   ],
   "source": [
    "bool(0+0j) # Complex a Bool"
   ]
  },
  {
   "cell_type": "code",
   "execution_count": 231,
   "id": "7061e428-2906-4ab6-8e23-6bf1cad2b7b9",
   "metadata": {},
   "outputs": [
    {
     "data": {
      "text/plain": [
       "True"
      ]
     },
     "execution_count": 231,
     "metadata": {},
     "output_type": "execute_result"
    }
   ],
   "source": [
    "bool(\"python\") # String a Bool"
   ]
  },
  {
   "cell_type": "code",
   "execution_count": 233,
   "id": "f6944431-e8c2-4716-9112-b22c8619a253",
   "metadata": {},
   "outputs": [
    {
     "data": {
      "text/plain": [
       "True"
      ]
     },
     "execution_count": 233,
     "metadata": {},
     "output_type": "execute_result"
    }
   ],
   "source": [
    "bool(\" \") # String a Bool"
   ]
  },
  {
   "cell_type": "code",
   "execution_count": 235,
   "id": "4e514bad-fc4f-450b-8cd4-8b2c99cdc26d",
   "metadata": {},
   "outputs": [
    {
     "data": {
      "text/plain": [
       "False"
      ]
     },
     "execution_count": 235,
     "metadata": {},
     "output_type": "execute_result"
    }
   ],
   "source": [
    "bool(\"\") # String a Bool"
   ]
  },
  {
   "cell_type": "code",
   "execution_count": 239,
   "id": "faf901d6-ea2d-4eb4-834e-29426ee35c64",
   "metadata": {},
   "outputs": [],
   "source": [
    "# Conversión str()"
   ]
  },
  {
   "cell_type": "code",
   "execution_count": 241,
   "id": "140fe10a-6b35-4e21-828b-ea7ac546a23b",
   "metadata": {},
   "outputs": [
    {
     "data": {
      "text/plain": [
       "'25'"
      ]
     },
     "execution_count": 241,
     "metadata": {},
     "output_type": "execute_result"
    }
   ],
   "source": [
    "str(25) # Int a Str"
   ]
  },
  {
   "cell_type": "code",
   "execution_count": 243,
   "id": "e31ad8b9-1ba4-4615-8aa7-cf8ccaeb5ca8",
   "metadata": {},
   "outputs": [
    {
     "data": {
      "text/plain": [
       "'25.2'"
      ]
     },
     "execution_count": 243,
     "metadata": {},
     "output_type": "execute_result"
    }
   ],
   "source": [
    "str(25.2) # Float a Str"
   ]
  },
  {
   "cell_type": "code",
   "execution_count": 245,
   "id": "ab95484f-ee66-4eed-9911-6681225e39d4",
   "metadata": {},
   "outputs": [
    {
     "data": {
      "text/plain": [
       "'(6+8j)'"
      ]
     },
     "execution_count": 245,
     "metadata": {},
     "output_type": "execute_result"
    }
   ],
   "source": [
    "str(6+8j) # Complex a Str"
   ]
  },
  {
   "cell_type": "code",
   "execution_count": 247,
   "id": "3c493e91-2319-4efd-9a87-812b5641e9eb",
   "metadata": {},
   "outputs": [
    {
     "data": {
      "text/plain": [
       "'True'"
      ]
     },
     "execution_count": 247,
     "metadata": {},
     "output_type": "execute_result"
    }
   ],
   "source": [
    "str(True) # Bool a Str"
   ]
  },
  {
   "cell_type": "markdown",
   "id": "8c007844-fbe0-4174-9565-3fa7a8aa28fd",
   "metadata": {},
   "source": [
    "## - Funciones Básicas"
   ]
  },
  {
   "cell_type": "code",
   "execution_count": 251,
   "id": "900f7685-3574-4516-b202-63aef3d3f6e3",
   "metadata": {},
   "outputs": [],
   "source": [
    "# trunc()"
   ]
  },
  {
   "cell_type": "code",
   "execution_count": 253,
   "id": "b5f4a917-be88-4f28-b898-9e9a98eef8c5",
   "metadata": {},
   "outputs": [
    {
     "name": "stdout",
     "output_type": "stream",
     "text": [
      "num_1:  64.99\n",
      "num_2:  64.5\n",
      "num_3:  64.51\n",
      "num_4:  64.000000000001\n"
     ]
    }
   ],
   "source": [
    "num_1 = 64.99\n",
    "num_2 = 64.5\n",
    "num_3 = 64.51\n",
    "num_4 = 64.000000000001\n",
    "print(\"num_1: \", num_1)\n",
    "print(\"num_2: \", num_2)\n",
    "print(\"num_3: \", num_3)\n",
    "print(\"num_4: \", num_4)"
   ]
  },
  {
   "cell_type": "code",
   "execution_count": 255,
   "id": "9368db4a-26c9-4926-bcb1-420af4b73590",
   "metadata": {},
   "outputs": [
    {
     "name": "stdout",
     "output_type": "stream",
     "text": [
      "trunc(num_1):  64\n",
      "trunc(num_2):  64\n",
      "trunc(num_3):  64\n",
      "trunc(num_4):  64\n"
     ]
    }
   ],
   "source": [
    "from math import trunc\n",
    "num_1 = 64.99\n",
    "num_2 = 64.5\n",
    "num_3 = 64.51\n",
    "num_4 = 64.000000000001\n",
    "print(\"trunc(num_1): \", trunc(num_1))\n",
    "print(\"trunc(num_2): \", trunc(num_2))\n",
    "print(\"trunc(num_3): \", trunc(num_3))\n",
    "print(\"trunc(num_4): \", trunc(num_4))"
   ]
  },
  {
   "cell_type": "code",
   "execution_count": 257,
   "id": "fd18d6c2-3625-45bc-80a3-1a180ef8ddc0",
   "metadata": {},
   "outputs": [],
   "source": [
    "# round(), ceil(), floor()"
   ]
  },
  {
   "cell_type": "code",
   "execution_count": 261,
   "id": "fe6dd411-7bea-4f33-ad7e-c8e640b783b0",
   "metadata": {},
   "outputs": [
    {
     "name": "stdout",
     "output_type": "stream",
     "text": [
      "round(num_1):  65\n",
      "round(num_2):  64\n",
      "round(num_3):  65\n",
      "round(num_4):  64\n"
     ]
    }
   ],
   "source": [
    "# Round() - Redondea de mitad [Si es menos de .5 va hacia abajo y si es mas va hacia arriba]\n",
    "num_1 = 64.99\n",
    "num_2 = 64.5\n",
    "num_3 = 64.51\n",
    "num_4 = 64.000000000001\n",
    "print(\"round(num_1): \", round(num_1))\n",
    "print(\"round(num_2): \", round(num_2))\n",
    "print(\"round(num_3): \", round(num_3))\n",
    "print(\"round(num_4): \", round(num_4))"
   ]
  },
  {
   "cell_type": "code",
   "execution_count": 265,
   "id": "efc12e70-d22e-46da-823b-b024a725a31b",
   "metadata": {},
   "outputs": [
    {
     "name": "stdout",
     "output_type": "stream",
     "text": [
      "ceil(num_1):  65\n",
      "ceil(num_2):  65\n",
      "ceil(num_3):  65\n",
      "ceil(num_4):  65\n"
     ]
    }
   ],
   "source": [
    "# Ceil() - Redondeo hacia arriba\n",
    "from math import ceil\n",
    "num_1 = 64.99\n",
    "num_2 = 64.5\n",
    "num_3 = 64.51\n",
    "num_4 = 64.000000000001\n",
    "print(\"ceil(num_1): \", ceil(num_1))\n",
    "print(\"ceil(num_2): \", ceil(num_2))\n",
    "print(\"ceil(num_3): \", ceil(num_3))\n",
    "print(\"ceil(num_4): \", ceil(num_4))"
   ]
  },
  {
   "cell_type": "code",
   "execution_count": 267,
   "id": "5a095867-2236-4684-897a-1fcd944a737b",
   "metadata": {},
   "outputs": [
    {
     "name": "stdout",
     "output_type": "stream",
     "text": [
      "floor(num_1):  64\n",
      "floor(num_2):  64\n",
      "floor(num_3):  64\n",
      "floor(num_4):  64\n"
     ]
    }
   ],
   "source": [
    "# Floor() - Redondeo hacia abajo\n",
    "from math import floor\n",
    "num_1 = 64.99\n",
    "num_2 = 64.5\n",
    "num_3 = 64.51\n",
    "num_4 = 64.000000000001\n",
    "print(\"floor(num_1): \", floor(num_1))\n",
    "print(\"floor(num_2): \", floor(num_2))\n",
    "print(\"floor(num_3): \", floor(num_3))\n",
    "print(\"floor(num_4): \", floor(num_4))"
   ]
  },
  {
   "cell_type": "code",
   "execution_count": 272,
   "id": "ec7f2a7b-1737-4cae-8c62-ce02752c735b",
   "metadata": {},
   "outputs": [],
   "source": [
    "# - Función % - Para dar Formato"
   ]
  },
  {
   "cell_type": "code",
   "execution_count": 280,
   "id": "add9630d-4f1b-4f9b-9472-33855ba091dd",
   "metadata": {},
   "outputs": [
    {
     "name": "stdout",
     "output_type": "stream",
     "text": [
      "'%.1f' % num_1:  65.0\n",
      "'%.3f' % num_1:  64.500\n",
      "'%.4f' % num_1:  64.5100\n",
      "'%.5f' % num_1:  64.00000\n"
     ]
    }
   ],
   "source": [
    "num_1 = 64.99\n",
    "num_2 = 64.5\n",
    "num_3 = 64.51\n",
    "num_4 = 64.000000000001\n",
    "print(\"'%.1f' % num_1: \", '%.1f' % num_1)\n",
    "print(\"'%.3f' % num_1: \", '%.3f' % num_2)\n",
    "print(\"'%.4f' % num_1: \", '%.4f' % num_3)\n",
    "print(\"'%.5f' % num_1: \", '%.5f' % num_4)"
   ]
  },
  {
   "cell_type": "code",
   "execution_count": 278,
   "id": "978d0377-a9b9-4f9d-aa35-318a4be8a917",
   "metadata": {},
   "outputs": [],
   "source": [
    "# - format()"
   ]
  },
  {
   "cell_type": "code",
   "execution_count": null,
   "id": "8765c043-d924-4fc1-82bb-81809a367654",
   "metadata": {},
   "outputs": [],
   "source": [
    "num_1 = 64.99\n",
    "num_2 = 64.5\n",
    "num_3 = 64.51\n",
    "num_4 = 64.000000000001\n",
    "print(\"'{%.1f}'.format(num_1): \", '{%.1f}'.format(num_1))\n",
    "print(\"'{%.1f}'.format(num_1): \", '{%.3f}'.format(num_2))\n",
    "print(\"'{%.1f}'.format(num_1): \", '{%.4f}'.format(num_3))\n",
    "print(\"'{%.1f}'.format(num_1): \", '{%.5f}'.format(num_4))"
   ]
  }
 ],
 "metadata": {
  "kernelspec": {
   "display_name": "Python 3 (ipykernel)",
   "language": "python",
   "name": "python3"
  },
  "language_info": {
   "codemirror_mode": {
    "name": "ipython",
    "version": 3
   },
   "file_extension": ".py",
   "mimetype": "text/x-python",
   "name": "python",
   "nbconvert_exporter": "python",
   "pygments_lexer": "ipython3",
   "version": "3.12.4"
  }
 },
 "nbformat": 4,
 "nbformat_minor": 5
}
