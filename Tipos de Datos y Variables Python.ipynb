{
 "cells": [
  {
   "cell_type": "markdown",
   "id": "03ffea88-ab6f-41fd-9c49-7b0f797d5b8c",
   "metadata": {},
   "source": [
    "# - Panorama\n",
    "\n",
    "int - Integer/Enteros\n",
    "\n",
    "float - Float/Flotantes (Números con Decimales)\n",
    "\n",
    "complex - Complex/Complejos (Números con una parte real y una imaginaria)\n",
    "\n",
    "bool - Boolean(True/False)/Booleanos(Verdadero/Falso)\n",
    "\n",
    "str - Strings/Cadenas, Textos"
   ]
  },
  {
   "cell_type": "markdown",
   "id": "10fa5b24-d78a-42c2-a12d-191707fbe222",
   "metadata": {},
   "source": [
    "### - Int - Integer/Enteros"
   ]
  },
  {
   "cell_type": "code",
   "execution_count": 10,
   "id": "90c93b7f-d1ca-43a9-abf6-8eae53f1ce7d",
   "metadata": {},
   "outputs": [
    {
     "name": "stdout",
     "output_type": "stream",
     "text": [
      "El valor de my_integer es:  11\n",
      "El tipo de dato de my_integer es:  <class 'int'>\n"
     ]
    }
   ],
   "source": [
    "my_integer = 11\n",
    "print(\"El valor de my_integer es: \", my_integer)\n",
    "print(\"El tipo de dato de my_integer es: \", type(my_integer))"
   ]
  },
  {
   "cell_type": "code",
   "execution_count": 12,
   "id": "048d0659-2aad-4731-a215-ddbe4286a366",
   "metadata": {},
   "outputs": [
    {
     "name": "stdout",
     "output_type": "stream",
     "text": [
      "El valor de my_integer es:  2024\n",
      "El tipo de dato de my_integer es:  <class 'int'>\n"
     ]
    }
   ],
   "source": [
    "my_integer = 2024\n",
    "print(\"El valor de my_integer es: \", my_integer)\n",
    "print(\"El tipo de dato de my_integer es: \", type(my_integer))"
   ]
  },
  {
   "cell_type": "code",
   "execution_count": 14,
   "id": "c572c357-cbe8-42c9-a9a0-1cc59d17d1bb",
   "metadata": {},
   "outputs": [
    {
     "name": "stdout",
     "output_type": "stream",
     "text": [
      "El valor de my_integer es:  57831\n",
      "El tipo de dato de my_integer es:  <class 'int'>\n"
     ]
    }
   ],
   "source": [
    "my_integer = 57831\n",
    "print(\"El valor de my_integer es: \", my_integer)\n",
    "print(\"El tipo de dato de my_integer es: \", type(my_integer))"
   ]
  },
  {
   "cell_type": "code",
   "execution_count": 16,
   "id": "80682322-af00-4574-a8b8-28f477a12952",
   "metadata": {},
   "outputs": [
    {
     "ename": "SyntaxError",
     "evalue": "invalid decimal literal (2274706151.py, line 2)",
     "output_type": "error",
     "traceback": [
      "\u001b[1;36m  Cell \u001b[1;32mIn[16], line 2\u001b[1;36m\u001b[0m\n\u001b[1;33m    my_integer = 57831d\u001b[0m\n\u001b[1;37m                     ^\u001b[0m\n\u001b[1;31mSyntaxError\u001b[0m\u001b[1;31m:\u001b[0m invalid decimal literal\n"
     ]
    }
   ],
   "source": [
    "# Error de Sintaxis\n",
    "my_integer = 57831d\n",
    "print(\"El valor de my_integer es: \", my_integer)\n",
    "print(\"El tipo de dato de my_integer es: \", type(my_integer))"
   ]
  },
  {
   "cell_type": "code",
   "execution_count": 18,
   "id": "5dbc4c11-ff5c-4256-bd62-93b9f3bb8d95",
   "metadata": {},
   "outputs": [
    {
     "ename": "SyntaxError",
     "evalue": "invalid syntax (2564065312.py, line 2)",
     "output_type": "error",
     "traceback": [
      "\u001b[1;36m  Cell \u001b[1;32mIn[18], line 2\u001b[1;36m\u001b[0m\n\u001b[1;33m    my_integer = 57831@\u001b[0m\n\u001b[1;37m                       ^\u001b[0m\n\u001b[1;31mSyntaxError\u001b[0m\u001b[1;31m:\u001b[0m invalid syntax\n"
     ]
    }
   ],
   "source": [
    "# Error de Sintaxis\n",
    "my_integer = 57831@\n",
    "print(\"El valor de my_integer es: \", my_integer)\n",
    "print(\"El tipo de dato de my_integer es: \", type(my_integer))"
   ]
  },
  {
   "cell_type": "markdown",
   "id": "bafc8cec-6235-49b5-87b1-1dda4653b8df",
   "metadata": {},
   "source": [
    "### - Float - Float/Flotantes (Números con Decimales)"
   ]
  },
  {
   "cell_type": "code",
   "execution_count": 22,
   "id": "8c13cb12-b086-4ae9-bf19-4f2ba181024a",
   "metadata": {},
   "outputs": [
    {
     "name": "stdout",
     "output_type": "stream",
     "text": [
      "El valor de my_float es:  11.1\n",
      "El tipo de dato de my_floatr es:  <class 'float'>\n"
     ]
    }
   ],
   "source": [
    "my_float = 11.1\n",
    "print(\"El valor de my_float es: \", my_float)\n",
    "print(\"El tipo de dato de my_floatr es: \", type(my_float))"
   ]
  },
  {
   "cell_type": "code",
   "execution_count": 24,
   "id": "0f56867f-765a-4892-8632-faec98b0589d",
   "metadata": {},
   "outputs": [
    {
     "name": "stdout",
     "output_type": "stream",
     "text": [
      "El valor de my_float es:  11.0\n",
      "El tipo de dato de my_floatr es:  <class 'float'>\n"
     ]
    }
   ],
   "source": [
    "my_float = 11.0\n",
    "print(\"El valor de my_float es: \", my_float)\n",
    "print(\"El tipo de dato de my_floatr es: \", type(my_float))"
   ]
  },
  {
   "cell_type": "code",
   "execution_count": 26,
   "id": "4eda126a-91ec-4dc8-8033-bb9d46c96971",
   "metadata": {},
   "outputs": [
    {
     "ename": "SyntaxError",
     "evalue": "invalid decimal literal (684022271.py, line 2)",
     "output_type": "error",
     "traceback": [
      "\u001b[1;36m  Cell \u001b[1;32mIn[26], line 2\u001b[1;36m\u001b[0m\n\u001b[1;33m    my_float = 11.1h\u001b[0m\n\u001b[1;37m                  ^\u001b[0m\n\u001b[1;31mSyntaxError\u001b[0m\u001b[1;31m:\u001b[0m invalid decimal literal\n"
     ]
    }
   ],
   "source": [
    "# Error de Sintaxis\n",
    "my_float = 11.1h\n",
    "print(\"El valor de my_float es: \", my_float)\n",
    "print(\"El tipo de dato de my_floatr es: \", type(my_float))"
   ]
  },
  {
   "cell_type": "code",
   "execution_count": 33,
   "id": "f5b3d39e-1c7a-4755-9f16-1d10cb8fa96d",
   "metadata": {},
   "outputs": [
    {
     "name": "stdout",
     "output_type": "stream",
     "text": [
      "El valor de my_float es:  2000.0\n",
      "El tipo de dato de my_floatr es:  <class 'float'>\n"
     ]
    }
   ],
   "source": [
    "# Notación Cientifíca\n",
    "my_float = 2e3 # 2.0 * 10 ** 3\n",
    "print(\"El valor de my_float es: \", my_float)\n",
    "print(\"El tipo de dato de my_floatr es: \", type(my_float))"
   ]
  },
  {
   "cell_type": "code",
   "execution_count": 31,
   "id": "dd9ce483-4394-43f2-9962-3e831f2e59d6",
   "metadata": {},
   "outputs": [
    {
     "data": {
      "text/plain": [
       "1.1"
      ]
     },
     "execution_count": 31,
     "metadata": {},
     "output_type": "execute_result"
    }
   ],
   "source": [
    "1.1"
   ]
  },
  {
   "cell_type": "code",
   "execution_count": 35,
   "id": "39c317a5-f3fb-4628-adfc-ec7a0a4fd90e",
   "metadata": {},
   "outputs": [
    {
     "data": {
      "text/plain": [
       "1.1"
      ]
     },
     "execution_count": 35,
     "metadata": {},
     "output_type": "execute_result"
    }
   ],
   "source": [
    "1.1e0 # 1.1 * 10 ** 0"
   ]
  },
  {
   "cell_type": "code",
   "execution_count": 41,
   "id": "8f93edcb-d267-4d40-80d6-0dbe1ed7a41c",
   "metadata": {},
   "outputs": [
    {
     "data": {
      "text/plain": [
       "11.0"
      ]
     },
     "execution_count": 41,
     "metadata": {},
     "output_type": "execute_result"
    }
   ],
   "source": [
    "1.1e1 # 1.1 * 10 ** 1"
   ]
  },
  {
   "cell_type": "code",
   "execution_count": 39,
   "id": "82a89642-6919-4f5c-b2b8-44ee54658323",
   "metadata": {},
   "outputs": [
    {
     "data": {
      "text/plain": [
       "110.0"
      ]
     },
     "execution_count": 39,
     "metadata": {},
     "output_type": "execute_result"
    }
   ],
   "source": [
    "1.1e2 # 1.1 * 10 ** 2"
   ]
  },
  {
   "cell_type": "code",
   "execution_count": 43,
   "id": "8bc92855-43a8-4c22-bc1f-294a42451978",
   "metadata": {},
   "outputs": [
    {
     "data": {
      "text/plain": [
       "1100.0"
      ]
     },
     "execution_count": 43,
     "metadata": {},
     "output_type": "execute_result"
    }
   ],
   "source": [
    "1.1e3 # 1.1 * 10 ** 3"
   ]
  },
  {
   "cell_type": "code",
   "execution_count": 45,
   "id": "1ef4e95c-af0e-4e6e-9e68-556c0f63bb0a",
   "metadata": {},
   "outputs": [
    {
     "data": {
      "text/plain": [
       "0.08"
      ]
     },
     "execution_count": 45,
     "metadata": {},
     "output_type": "execute_result"
    }
   ],
   "source": [
    "8e-2 # 8.0 * 10 ** -2"
   ]
  },
  {
   "cell_type": "markdown",
   "id": "c8deb804-2aa0-47ca-ba5d-a6a6ed17aca6",
   "metadata": {},
   "source": [
    "### - Complex - Complex/Complejos (Números con una parte real y una imaginaria)\n",
    "complet = x + yj\n",
    "\n",
    "x = Parte Real\n",
    "\n",
    "yj = Parte Imaginaria\n"
   ]
  },
  {
   "cell_type": "code",
   "execution_count": 50,
   "id": "b75c25d9-6381-4fae-a33c-1de0db4a41c1",
   "metadata": {},
   "outputs": [
    {
     "name": "stdout",
     "output_type": "stream",
     "text": [
      "El valor de my_complex es:  (3+9j)\n",
      "El tipo de dato de my_complex es:  <class 'complex'>\n"
     ]
    }
   ],
   "source": [
    "my_complex = 3 + 9j\n",
    "print(\"El valor de my_complex es: \", my_complex)\n",
    "print(\"El tipo de dato de my_complex es: \", type(my_complex))"
   ]
  },
  {
   "cell_type": "code",
   "execution_count": 52,
   "id": "6f55e49b-5d10-4202-a196-60c6c8903849",
   "metadata": {},
   "outputs": [
    {
     "name": "stdout",
     "output_type": "stream",
     "text": [
      "El valor de my_complex es:  (2+5j)\n",
      "El tipo de dato de my_complex es:  <class 'complex'>\n"
     ]
    }
   ],
   "source": [
    "my_complex = 2 + 5j\n",
    "print(\"El valor de my_complex es: \", my_complex)\n",
    "print(\"El tipo de dato de my_complex es: \", type(my_complex))"
   ]
  },
  {
   "cell_type": "markdown",
   "id": "c57600a7-7472-4bcd-bc94-1748bc27cf0a",
   "metadata": {},
   "source": [
    "### - Bool - Boolean(True/False)/Booleanos(Verdadero/Falso)"
   ]
  },
  {
   "cell_type": "code",
   "execution_count": 55,
   "id": "dacdd16d-a9cb-41f3-9347-6f1ce1252b27",
   "metadata": {},
   "outputs": [
    {
     "name": "stdout",
     "output_type": "stream",
     "text": [
      "El valor de my_boolean es:  False\n",
      "El tipo de dato de my_boolean es:  <class 'bool'>\n"
     ]
    }
   ],
   "source": [
    "my_boolean = False\n",
    "print(\"El valor de my_boolean es: \", my_boolean)\n",
    "print(\"El tipo de dato de my_boolean es: \", type(my_boolean))"
   ]
  },
  {
   "cell_type": "code",
   "execution_count": 57,
   "id": "bb8fccb5-ce0d-42cb-bfc2-537a7a7e1b13",
   "metadata": {},
   "outputs": [
    {
     "name": "stdout",
     "output_type": "stream",
     "text": [
      "El valor de my_boolean es:  True\n",
      "El tipo de dato de my_boolean es:  <class 'bool'>\n"
     ]
    }
   ],
   "source": [
    "my_boolean = True\n",
    "print(\"El valor de my_boolean es: \", my_boolean)\n",
    "print(\"El tipo de dato de my_boolean es: \", type(my_boolean))"
   ]
  },
  {
   "cell_type": "code",
   "execution_count": 59,
   "id": "a0eaad51-d57f-4eb0-825a-6e25cb32857e",
   "metadata": {},
   "outputs": [],
   "source": [
    "# True = 1\n",
    "# False = 0"
   ]
  },
  {
   "cell_type": "code",
   "execution_count": 61,
   "id": "fbe80b08-f58f-4b65-9f0c-58001691f3e4",
   "metadata": {},
   "outputs": [
    {
     "name": "stdout",
     "output_type": "stream",
     "text": [
      "3\n"
     ]
    }
   ],
   "source": [
    "# 3\n",
    "print(True+True+True)"
   ]
  },
  {
   "cell_type": "code",
   "execution_count": 63,
   "id": "5e24e502-5f4b-4894-8ebe-f28c0799dfbd",
   "metadata": {},
   "outputs": [
    {
     "name": "stdout",
     "output_type": "stream",
     "text": [
      "0\n"
     ]
    }
   ],
   "source": [
    "# 0\n",
    "print(False+False+False)"
   ]
  },
  {
   "cell_type": "code",
   "execution_count": 65,
   "id": "12b82888-5890-4b01-8168-7f0e2340f9c2",
   "metadata": {},
   "outputs": [
    {
     "name": "stdout",
     "output_type": "stream",
     "text": [
      "2\n"
     ]
    }
   ],
   "source": [
    "# 2\n",
    "print(True+False+True)"
   ]
  },
  {
   "cell_type": "code",
   "execution_count": 67,
   "id": "90254e22-6cd8-473d-9d4f-9371ae8b5bea",
   "metadata": {},
   "outputs": [
    {
     "name": "stdout",
     "output_type": "stream",
     "text": [
      "1\n"
     ]
    }
   ],
   "source": [
    "# 1\n",
    "print(True-True+True)"
   ]
  },
  {
   "cell_type": "code",
   "execution_count": 71,
   "id": "7f29e29a-7295-4845-88b1-edd0c1894ac9",
   "metadata": {},
   "outputs": [
    {
     "name": "stdout",
     "output_type": "stream",
     "text": [
      "-2\n"
     ]
    }
   ],
   "source": [
    "# -2\n",
    "print(False-True-True)"
   ]
  },
  {
   "cell_type": "markdown",
   "id": "5c4feade-22cb-416b-bc1a-d5e54341c7ac",
   "metadata": {},
   "source": [
    "### - Str - Strings/Cadenas, Textos"
   ]
  },
  {
   "cell_type": "code",
   "execution_count": 74,
   "id": "801d6e41-f040-4e99-9d0f-73cd5feaa16a",
   "metadata": {},
   "outputs": [
    {
     "name": "stdout",
     "output_type": "stream",
     "text": [
      "El valor de my_string es:  BackEnd Python\n",
      "El tipo de dato de my_string es:  <class 'str'>\n"
     ]
    }
   ],
   "source": [
    "my_string = \"BackEnd Python\"\n",
    "print(\"El valor de my_string es: \", my_string)\n",
    "print(\"El tipo de dato de my_string es: \", type(my_string))"
   ]
  },
  {
   "cell_type": "code",
   "execution_count": 76,
   "id": "951a0ff8-6263-4f09-bd3a-6f472d01d4ee",
   "metadata": {},
   "outputs": [
    {
     "name": "stdout",
     "output_type": "stream",
     "text": [
      "El valor de my_string es:  Curso de EBAC\n",
      "El tipo de dato de my_string es:  <class 'str'>\n"
     ]
    }
   ],
   "source": [
    "my_string = \"Curso de EBAC\"\n",
    "print(\"El valor de my_string es: \", my_string)\n",
    "print(\"El tipo de dato de my_string es: \", type(my_string))"
   ]
  },
  {
   "cell_type": "code",
   "execution_count": 78,
   "id": "cd2fee27-fa84-4783-8ae2-809aca1172d5",
   "metadata": {},
   "outputs": [
    {
     "name": "stdout",
     "output_type": "stream",
     "text": [
      "El valor de my_string es:  Aprendiendo a usar string/cadenas/textos\n",
      "El tipo de dato de my_string es:  <class 'str'>\n"
     ]
    }
   ],
   "source": [
    "my_string = \"Aprendiendo a usar string/cadenas/textos\"\n",
    "print(\"El valor de my_string es: \", my_string)\n",
    "print(\"El tipo de dato de my_string es: \", type(my_string))"
   ]
  },
  {
   "cell_type": "code",
   "execution_count": 84,
   "id": "6e7be9f5-2526-4d77-8ce0-9a0341e0a166",
   "metadata": {},
   "outputs": [
    {
     "ename": "SyntaxError",
     "evalue": "unterminated string literal (detected at line 2) (3867547606.py, line 2)",
     "output_type": "error",
     "traceback": [
      "\u001b[1;36m  Cell \u001b[1;32mIn[84], line 2\u001b[1;36m\u001b[0m\n\u001b[1;33m    my_string = 'You're amazing'\u001b[0m\n\u001b[1;37m                               ^\u001b[0m\n\u001b[1;31mSyntaxError\u001b[0m\u001b[1;31m:\u001b[0m unterminated string literal (detected at line 2)\n"
     ]
    }
   ],
   "source": [
    "# Error por Comillas simples ' '\n",
    "my_string = 'You're amazing'\n",
    "print(\"El valor de my_string es: \", my_string)\n",
    "print(\"El tipo de dato de my_string es: \", type(my_string))"
   ]
  },
  {
   "cell_type": "code",
   "execution_count": 86,
   "id": "1ada5315-245a-401d-845c-d175390b3a6d",
   "metadata": {},
   "outputs": [
    {
     "name": "stdout",
     "output_type": "stream",
     "text": [
      "El valor de my_string es:  You're amazing\n",
      "El tipo de dato de my_string es:  <class 'str'>\n"
     ]
    }
   ],
   "source": [
    "my_string = \"You're amazing\"\n",
    "print(\"El valor de my_string es: \", my_string)\n",
    "print(\"El tipo de dato de my_string es: \", type(my_string))"
   ]
  },
  {
   "cell_type": "code",
   "execution_count": 88,
   "id": "36709679-c842-4cb8-b953-765605d7d464",
   "metadata": {},
   "outputs": [
    {
     "name": "stdout",
     "output_type": "stream",
     "text": [
      "El valor de my_string es:  \n",
      "Es una cadena con múltiples líneas \n",
      "\n",
      "Como puedes ver es genial para textos más largos\n",
      "\n",
      "¿Puedes imaginar cuántas cosas pdrías hacer manejando texto de Internet?\n",
      "\n",
      "El tipo de dato de my_string es:  <class 'str'>\n"
     ]
    }
   ],
   "source": [
    "# 3 Comillas Inicio y Fin (\"\"\") para una cadena de multiples líneas\n",
    "my_string = \"\"\"\n",
    "Es una cadena con múltiples líneas \\n\n",
    "Como puedes ver es genial para textos más largos\\n\n",
    "¿Puedes imaginar cuántas cosas pdrías hacer manejando texto de Internet?\n",
    "\"\"\"\n",
    "print(\"El valor de my_string es: \", my_string)\n",
    "print(\"El tipo de dato de my_string es: \", type(my_string))"
   ]
  },
  {
   "cell_type": "code",
   "execution_count": 90,
   "id": "7b31f958-d4c3-4a8e-a36f-9511ed29034f",
   "metadata": {},
   "outputs": [],
   "source": [
    "#"
   ]
  },
  {
   "cell_type": "markdown",
   "id": "0983ff05-2688-43e2-90f2-5bfbc8fa2512",
   "metadata": {},
   "source": [
    "# - Variables\n",
    "\n",
    "## ¿Qué es una variable?\n",
    "- Son un espacio temporal para guardar un valor con un nombre específico\n",
    "- No hay necesidad de declara el tipo de dato explícitamente\n",
    "- Python es un lenguaje tipado dinámicamente, lo que quiere decir que el tipo de dato se define mientras corre el programa\n",
    "- Las varibales en Python funcionan diferente que otros Lenguajes de Programación\n",
    "- No necesitamos crear las variables, solo asignamos un nombre a un valor  usando el operador de asignación\n",
    "\n",
    "## Tipos de Variables\n",
    "- Varibales Globales: Aquellas que se utilizarán para todo el programa\n",
    "- Varibales Locales: Aquellas que se van a utilizar solo en eun boque específico"
   ]
  },
  {
   "cell_type": "markdown",
   "id": "e74fd5a3-95bc-4b45-ba49-a374fa9a2204",
   "metadata": {},
   "source": [
    "### Variables Globales\n",
    "- Declaramos variables globales afuera de funciones\n",
    "- El valor de la variable puede ser constante para todo el programa\n",
    "- Cualquier función podrá acceder a estas variables\n",
    "- Podemos decir que las Variables Globales tienen un alcance global\n",
    "- Normalmente son más usadas para constantes\n",
    "- Las Variables Globales mantienen sus valores a través de la ejeción completa de tu programa\n",
    "- Una Variable Global puede ser accesada por cualquier función"
   ]
  },
  {
   "cell_type": "code",
   "execution_count": 109,
   "id": "72bc09ca-29c3-41ca-8668-c707042531cc",
   "metadata": {},
   "outputs": [],
   "source": [
    "# Variable Global\n",
    "my_global_variable = 50\n",
    "\n",
    "def my_function_1():\n",
    "    pass\n",
    "    \n",
    "def my_function_2():\n",
    "    pass"
   ]
  },
  {
   "cell_type": "code",
   "execution_count": 99,
   "id": "179c7a2d-19a8-4c5f-bb8a-f7d988d4f343",
   "metadata": {},
   "outputs": [],
   "source": [
    "# Variable Local\n",
    "def my_function_1():\n",
    "    my_local_variable = 5\n",
    "    \n",
    "def my_function_2():\n",
    "    my_local_variable = 35"
   ]
  },
  {
   "cell_type": "code",
   "execution_count": 107,
   "id": "adf68769-0a52-4932-9d21-e0960e3fbcd8",
   "metadata": {},
   "outputs": [],
   "source": [
    "# Variable Global\n",
    "my_global_variable = 50\n",
    "\n",
    "def my_function_1():\n",
    "    print(\"my_function_1 - El Valor de my_globar_variable: \", my_globar_variable)\n",
    "    \n",
    "def my_function_2():\n",
    "    print(\"my_function_2 - El Valor de my_globar_variable: \", my_globar_variable)"
   ]
  },
  {
   "cell_type": "code",
   "execution_count": 103,
   "id": "cd996a3d-35e9-4cf4-951d-a6d03691996b",
   "metadata": {},
   "outputs": [
    {
     "name": "stdout",
     "output_type": "stream",
     "text": [
      "my_function_1 - El Valor de my_globar_variable:  50\n"
     ]
    }
   ],
   "source": [
    "my_function_1()"
   ]
  },
  {
   "cell_type": "code",
   "execution_count": 105,
   "id": "a1a34e78-5ee3-4477-b64c-0705f7c21474",
   "metadata": {},
   "outputs": [
    {
     "name": "stdout",
     "output_type": "stream",
     "text": [
      "my_function_2 - El Valor de my_globar_variable:  50\n"
     ]
    }
   ],
   "source": [
    "my_function_2()"
   ]
  },
  {
   "cell_type": "code",
   "execution_count": 113,
   "id": "4e9e224b-41d3-438e-b77e-9f61f088bf35",
   "metadata": {},
   "outputs": [],
   "source": [
    "# Preferencia a la Variable Local, y después a la Variable Global\n",
    "my_variable = 50 # Global\n",
    "\n",
    "def my_function_1():\n",
    "    my_variable = 10 # Local\n",
    "    print(\"my_function_1 - El Valor de my_variable: \", my_variable)\n",
    "    \n",
    "def my_function_2():\n",
    "    my_variable = 20 # Local\n",
    "    print(\"my_function_2 - El Valor de my_variable: \", my_variable)\n",
    "\n",
    "def my_function_3():\n",
    "    print(\"my_function_3 - El Valor de my_variable: \", my_variable)"
   ]
  },
  {
   "cell_type": "code",
   "execution_count": 115,
   "id": "778340c0-59f8-4124-9a52-8a01670362da",
   "metadata": {},
   "outputs": [
    {
     "name": "stdout",
     "output_type": "stream",
     "text": [
      "my_function_1 - El Valor de my_variable:  10\n"
     ]
    }
   ],
   "source": [
    "my_function_1()"
   ]
  },
  {
   "cell_type": "code",
   "execution_count": 117,
   "id": "efa18983-cdd8-471a-b81e-d4bce761ef5a",
   "metadata": {},
   "outputs": [
    {
     "name": "stdout",
     "output_type": "stream",
     "text": [
      "my_function_2 - El Valor de my_variable:  20\n"
     ]
    }
   ],
   "source": [
    "my_function_2()"
   ]
  },
  {
   "cell_type": "code",
   "execution_count": 119,
   "id": "5bb55d84-d2db-4166-a421-10e08ec05b25",
   "metadata": {},
   "outputs": [
    {
     "name": "stdout",
     "output_type": "stream",
     "text": [
      "my_function_3 - El Valor de my_variable:  50\n"
     ]
    }
   ],
   "source": [
    "my_function_3()"
   ]
  },
  {
   "cell_type": "markdown",
   "id": "24413df1-1e42-4963-baab-1ac279982667",
   "metadata": {},
   "source": [
    "### Variables Locales\n",
    "- Podemos usarlas dentro de una función\n",
    "- Podemos tener una restricción al acceder a una variable local desde otra función\n",
    "- No podemos usarlas durante todo el programa\n",
    "- El alcance y visibilidad se limita al interior de la función\n",
    "- Lo que dure la función será lo que dure el alcance de nuestra variable"
   ]
  },
  {
   "cell_type": "code",
   "execution_count": 123,
   "id": "5e9dbe69-6a15-4c84-b406-800ed60ca575",
   "metadata": {},
   "outputs": [],
   "source": [
    "# Variable Global\n",
    "my_global_variable = 50\n",
    "\n",
    "def my_function_1():\n",
    "    pass\n",
    "    \n",
    "def my_function_2():\n",
    "    pass"
   ]
  },
  {
   "cell_type": "code",
   "execution_count": null,
   "id": "a8ae1668-7ef5-4429-bd7f-008a0f7eaf60",
   "metadata": {},
   "outputs": [],
   "source": [
    "# Variable Local\n",
    "def my_function_1():\n",
    "    my_local_variable = 5\n",
    "    \n",
    "def my_function_2():\n",
    "    my_local_variable = 35"
   ]
  },
  {
   "cell_type": "code",
   "execution_count": 1,
   "id": "a757290f-68fe-4f97-bb99-c16ec91df083",
   "metadata": {},
   "outputs": [],
   "source": [
    "def my_function_1():\n",
    "    my_variable = 10 # Local\n",
    "    print(\"my_function_1 - El Valor de my_variable: \", my_variable)\n",
    "    \n",
    "def my_function_2():\n",
    "    my_variable = 20 # Local\n",
    "    print(\"my_function_2 - El Valor de my_variable: \", my_variable)\n",
    "\n",
    "def my_function_3():\n",
    "    print(\"my_function_3 - El Valor de my_variable: \", my_variable)"
   ]
  },
  {
   "cell_type": "code",
   "execution_count": 3,
   "id": "a7590af4-cbc6-4ee5-8e05-e7fb7c190332",
   "metadata": {},
   "outputs": [
    {
     "name": "stdout",
     "output_type": "stream",
     "text": [
      "my_function_1 - El Valor de my_variable:  10\n"
     ]
    }
   ],
   "source": [
    "my_function_1()"
   ]
  },
  {
   "cell_type": "code",
   "execution_count": 5,
   "id": "a0af9121-9c5b-459c-8970-ef66f702855d",
   "metadata": {},
   "outputs": [
    {
     "name": "stdout",
     "output_type": "stream",
     "text": [
      "my_function_2 - El Valor de my_variable:  20\n"
     ]
    }
   ],
   "source": [
    "my_function_2()"
   ]
  },
  {
   "cell_type": "code",
   "execution_count": 9,
   "id": "627b3b49-1a4e-459e-a398-61715f07f2ff",
   "metadata": {},
   "outputs": [
    {
     "ename": "NameError",
     "evalue": "name 'my_variable' is not defined",
     "output_type": "error",
     "traceback": [
      "\u001b[1;31m---------------------------------------------------------------------------\u001b[0m",
      "\u001b[1;31mNameError\u001b[0m                                 Traceback (most recent call last)",
      "Cell \u001b[1;32mIn[9], line 2\u001b[0m\n\u001b[0;32m      1\u001b[0m \u001b[38;5;66;03m# Error\u001b[39;00m\n\u001b[1;32m----> 2\u001b[0m my_function_3()\n",
      "Cell \u001b[1;32mIn[1], line 10\u001b[0m, in \u001b[0;36mmy_function_3\u001b[1;34m()\u001b[0m\n\u001b[0;32m      9\u001b[0m \u001b[38;5;28;01mdef\u001b[39;00m \u001b[38;5;21mmy_function_3\u001b[39m():\n\u001b[1;32m---> 10\u001b[0m     \u001b[38;5;28mprint\u001b[39m(\u001b[38;5;124m\"\u001b[39m\u001b[38;5;124mmy_function_3 - El Valor de my_variable: \u001b[39m\u001b[38;5;124m\"\u001b[39m, my_variable)\n",
      "\u001b[1;31mNameError\u001b[0m: name 'my_variable' is not defined"
     ]
    }
   ],
   "source": [
    "# Error\n",
    "my_function_3()"
   ]
  },
  {
   "cell_type": "markdown",
   "id": "5d511d85-2048-48a4-90c3-4030de354492",
   "metadata": {},
   "source": [
    "# - Palabra Reservada \"global\""
   ]
  },
  {
   "cell_type": "code",
   "execution_count": 20,
   "id": "c63977e4-3cec-4473-95f2-32dcfee40f66",
   "metadata": {},
   "outputs": [],
   "source": [
    "def my_function_1():\n",
    "    my_variable = 10 # Local\n",
    "    print(\"my_function_1 - El Valor de my_variable: \", my_variable)\n",
    "\n",
    "# Agregamos la palabra reservada \"global\" para hacer que la variable se transforme\n",
    "# de local a global\n",
    "def my_function_2():\n",
    "    global my_variable # Global\n",
    "    my_variable = 20\n",
    "    print(\"my_function_2 - El Valor de my_variable: \", my_variable)\n",
    "\n",
    "def my_function_3():\n",
    "    print(\"my_function_3 - El Valor de my_variable: \", my_variable)"
   ]
  },
  {
   "cell_type": "code",
   "execution_count": 22,
   "id": "f65af48f-71dd-4f79-92bc-9d6fbb17fc43",
   "metadata": {},
   "outputs": [
    {
     "name": "stdout",
     "output_type": "stream",
     "text": [
      "my_function_1 - El Valor de my_variable:  10\n"
     ]
    }
   ],
   "source": [
    "my_function_1()"
   ]
  },
  {
   "cell_type": "code",
   "execution_count": 24,
   "id": "ac58157f-fb53-4d04-b19d-02e60b9e5aae",
   "metadata": {},
   "outputs": [
    {
     "name": "stdout",
     "output_type": "stream",
     "text": [
      "my_function_2 - El Valor de my_variable:  20\n"
     ]
    }
   ],
   "source": [
    "my_function_2()"
   ]
  },
  {
   "cell_type": "code",
   "execution_count": 26,
   "id": "9927c01b-26c0-4caf-bc85-5a39561ecfe9",
   "metadata": {},
   "outputs": [
    {
     "name": "stdout",
     "output_type": "stream",
     "text": [
      "my_function_3 - El Valor de my_variable:  20\n"
     ]
    }
   ],
   "source": [
    "my_function_3()"
   ]
  },
  {
   "cell_type": "code",
   "execution_count": 28,
   "id": "400a6c30-4192-4f83-8ae2-4c8945f4c6e5",
   "metadata": {},
   "outputs": [],
   "source": [
    "def my_function_1():\n",
    "    my_variable = 10 # Local\n",
    "    print(\"my_function_1 - El Valor de my_variable: \", my_variable)\n",
    "\n",
    "# Se puede definir varias variables a globales\n",
    "def my_function_2():\n",
    "    global a, b, c, d, e # Global\n",
    "    a = 10\n",
    "    b = 20\n",
    "    c = 30\n",
    "    d = 40\n",
    "    e = 50\n",
    "    print(\"my_function_2 - El Valor de a es: \", a)\n",
    "    print(\"my_function_2 - El Valor de b es: \", b)\n",
    "    print(\"my_function_2 - El Valor de c es: \", c)\n",
    "    print(\"my_function_2 - El Valor de d es: \", d)\n",
    "    print(\"my_function_2 - El Valor de e es: \", e)\n",
    "\n",
    "def my_function_3():\n",
    "    print(\"my_function_3 - El Valor de a es: \", a)\n",
    "    print(\"my_function_3 - El Valor de b es: \", b)\n",
    "    print(\"my_function_3 - El Valor de c es: \", c)\n",
    "    print(\"my_function_3 - El Valor de d es: \", d)\n",
    "    print(\"my_function_3 - El Valor de e es: \", e)"
   ]
  },
  {
   "cell_type": "code",
   "execution_count": 30,
   "id": "b34ce150-95d1-4416-8a33-8e075fe1e6b2",
   "metadata": {},
   "outputs": [
    {
     "name": "stdout",
     "output_type": "stream",
     "text": [
      "my_function_1 - El Valor de my_variable:  10\n"
     ]
    }
   ],
   "source": [
    "my_function_1()"
   ]
  },
  {
   "cell_type": "code",
   "execution_count": 32,
   "id": "a3b212cd-b247-4fd6-bd2e-745c63ea86dd",
   "metadata": {},
   "outputs": [
    {
     "name": "stdout",
     "output_type": "stream",
     "text": [
      "my_function_2 - El Valor de a es:  10\n",
      "my_function_2 - El Valor de b es:  20\n",
      "my_function_2 - El Valor de c es:  30\n",
      "my_function_2 - El Valor de d es:  40\n",
      "my_function_2 - El Valor de e es:  50\n"
     ]
    }
   ],
   "source": [
    "my_function_2()"
   ]
  },
  {
   "cell_type": "code",
   "execution_count": 34,
   "id": "9d1b93e2-50cb-4515-baa5-ade205cad080",
   "metadata": {},
   "outputs": [
    {
     "name": "stdout",
     "output_type": "stream",
     "text": [
      "my_function_3 - El Valor de a es:  10\n",
      "my_function_3 - El Valor de b es:  20\n",
      "my_function_3 - El Valor de c es:  30\n",
      "my_function_3 - El Valor de d es:  40\n",
      "my_function_3 - El Valor de e es:  50\n"
     ]
    }
   ],
   "source": [
    "my_function_3()"
   ]
  },
  {
   "cell_type": "markdown",
   "id": "b826fc4b-c370-4452-b5b4-19064b96a2ca",
   "metadata": {},
   "source": [
    "# - Tipos de Enteros\n",
    "- Forma Decimal\n",
    "- Forma Binaria\n",
    "- Forma Octal\n",
    "- Forma Hexadecimal"
   ]
  },
  {
   "cell_type": "markdown",
   "id": "cafff44c-0337-4af5-91d8-c070945d65d9",
   "metadata": {},
   "source": [
    "### - Forma Decimal\n",
    "- Se cuenta de derecha a izquierda y cada posición vale por 10\n",
    "- Cada posición va en aumento de 1 en 1 iniciando con el cero 0"
   ]
  },
  {
   "cell_type": "code",
   "execution_count": 39,
   "id": "4161557d-7b42-4008-ad25-899669e7393b",
   "metadata": {},
   "outputs": [
    {
     "name": "stdout",
     "output_type": "stream",
     "text": [
      "El valor de my_decimal_number es:  55\n"
     ]
    }
   ],
   "source": [
    "my_decimal_number = 55\n",
    "print(\"El valor de my_decimal_number es: \", my_decimal_number)"
   ]
  },
  {
   "cell_type": "code",
   "execution_count": 4,
   "id": "9ad512e2-491f-4fdb-b0c6-71eb0c80f0d3",
   "metadata": {},
   "outputs": [
    {
     "name": "stdout",
     "output_type": "stream",
     "text": [
      "El valor de my_decimal_number es:  456718923441\n"
     ]
    }
   ],
   "source": [
    "my_decimal_number = 456718923441\n",
    "print(\"El valor de my_decimal_number es: \", my_decimal_number)"
   ]
  },
  {
   "cell_type": "markdown",
   "id": "d61dd240-8a72-4843-9df0-d467bac23bf1",
   "metadata": {},
   "source": [
    "### - Forma Binaria\n",
    "- Codigo organizado en bytes\n",
    "- Lenguaje Binario\n",
    "- Lenguaje de las Máquinas (1 y 0)\n",
    "#### Valor base: 2\n",
    "- Solamente acepta dos dígitos (1 y 0)\n",
    "- Usamos prefijo '0b' o '0B'"
   ]
  },
  {
   "cell_type": "code",
   "execution_count": 13,
   "id": "f283e675-a730-471a-99e7-03da0d2d37bd",
   "metadata": {},
   "outputs": [
    {
     "name": "stdout",
     "output_type": "stream",
     "text": [
      "El valor de my_binary_number es:  3\n"
     ]
    }
   ],
   "source": [
    "my_binary_number = 0b11 # 1*2**1 + 1*2**0\n",
    "print(\"El valor de my_binary_number es: \", my_binary_number)"
   ]
  },
  {
   "cell_type": "code",
   "execution_count": 15,
   "id": "b276df29-4d26-44ec-b7c6-382769b48140",
   "metadata": {},
   "outputs": [
    {
     "name": "stdout",
     "output_type": "stream",
     "text": [
      "El valor de my_binary_number es:  7\n"
     ]
    }
   ],
   "source": [
    "my_binary_number = 0B111 # 1*2**2 + 1*2**1 + 1*2**0\n",
    "print(\"El valor de my_binary_number es: \", my_binary_number)"
   ]
  },
  {
   "cell_type": "markdown",
   "id": "dcef44b4-f75e-42c7-a81e-35d1b2d4d828",
   "metadata": {},
   "source": [
    "### - Forma Octal\n",
    "#### Valor Base: 8\n",
    "- Solamente acepta dígitos del 0 al 7\n",
    "- Usamos el prefijo '0o' o '0O'"
   ]
  },
  {
   "cell_type": "code",
   "execution_count": 18,
   "id": "ad2a9729-f3dd-4308-aec4-bb98b308f481",
   "metadata": {},
   "outputs": [
    {
     "name": "stdout",
     "output_type": "stream",
     "text": [
      "El valor de my_decimal_number es:  17\n"
     ]
    }
   ],
   "source": [
    "my_decimal_number = 17\n",
    "print(\"El valor de my_decimal_number es: \", my_decimal_number)"
   ]
  },
  {
   "cell_type": "code",
   "execution_count": 20,
   "id": "0002a708-3fbb-4971-b16f-0f346045e9fd",
   "metadata": {},
   "outputs": [
    {
     "name": "stdout",
     "output_type": "stream",
     "text": [
      "El valor de my_octal_number es:  15\n"
     ]
    }
   ],
   "source": [
    "my_octal_number = 0o17 # 1*8**1 + 7*8**0\n",
    "print(\"El valor de my_octal_number es: \", my_octal_number)"
   ]
  },
  {
   "cell_type": "code",
   "execution_count": 22,
   "id": "163d70f7-f24e-4ebc-b522-747ae4bee4f3",
   "metadata": {},
   "outputs": [
    {
     "name": "stdout",
     "output_type": "stream",
     "text": [
      "El valor de my_octal_number es:  107\n"
     ]
    }
   ],
   "source": [
    "my_octal_number = 0O153 # 1*8**2 + 5*8**1 + 3*8**0\n",
    "print(\"El valor de my_octal_number es: \", my_octal_number)"
   ]
  },
  {
   "cell_type": "markdown",
   "id": "0815d3e0-fd52-4fa7-9ecb-36284a1fb5f3",
   "metadata": {},
   "source": [
    "### - Forma Hexadecimal\n",
    "#### Valor Base: 16\n",
    "- Acepta dígitos del 0 al 9\n",
    "- Acepta letras de la 'A/a' a 'F/f'\n",
    "- Usamos el prefijo '0x' o 0X'\n",
    "- 0\n",
    "- 1\n",
    "- 2\n",
    "- 3\n",
    "- 4\n",
    "- 5\n",
    "- 6\n",
    "- 7\n",
    "- 8\n",
    "- 9\n",
    "- A = 10\n",
    "- B = 11\n",
    "- C = 12\n",
    "- D = 13\n",
    "- E = 14\n",
    "- F = 15"
   ]
  },
  {
   "cell_type": "code",
   "execution_count": 28,
   "id": "9dcc4d58-87a3-4d84-9363-57f723e67248",
   "metadata": {},
   "outputs": [
    {
     "name": "stdout",
     "output_type": "stream",
     "text": [
      "El valor de my_decimal_number es:  17\n"
     ]
    }
   ],
   "source": [
    "my_decimal_number = 17\n",
    "print(\"El valor de my_decimal_number es: \", my_decimal_number)"
   ]
  },
  {
   "cell_type": "code",
   "execution_count": 30,
   "id": "9e7b1589-a434-46c1-911e-90b659bb62db",
   "metadata": {},
   "outputs": [
    {
     "name": "stdout",
     "output_type": "stream",
     "text": [
      "El valor de my_hex_number es:  23\n"
     ]
    }
   ],
   "source": [
    "my_hex_number = 0x17 # 1*16**1 + 7*16**0\n",
    "print(\"El valor de my_hex_number es: \", my_hex_number)"
   ]
  },
  {
   "cell_type": "code",
   "execution_count": 32,
   "id": "c6e243b0-784d-468a-9f26-738845c65b77",
   "metadata": {},
   "outputs": [
    {
     "name": "stdout",
     "output_type": "stream",
     "text": [
      "El valor de my_hex_number es:  28\n"
     ]
    }
   ],
   "source": [
    "my_hex_number = 0x1C # 1*16**1 + 12*16**0\n",
    "print(\"El valor de my_hex_number es: \", my_hex_number)"
   ]
  },
  {
   "cell_type": "code",
   "execution_count": null,
   "id": "0f5ebc93-4ce2-4a63-a99f-6714b855ac10",
   "metadata": {},
   "outputs": [],
   "source": []
  }
 ],
 "metadata": {
  "kernelspec": {
   "display_name": "Python 3 (ipykernel)",
   "language": "python",
   "name": "python3"
  },
  "language_info": {
   "codemirror_mode": {
    "name": "ipython",
    "version": 3
   },
   "file_extension": ".py",
   "mimetype": "text/x-python",
   "name": "python",
   "nbconvert_exporter": "python",
   "pygments_lexer": "ipython3",
   "version": "3.12.4"
  }
 },
 "nbformat": 4,
 "nbformat_minor": 5
}
