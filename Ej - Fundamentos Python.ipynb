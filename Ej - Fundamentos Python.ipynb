{
 "cells": [
  {
   "cell_type": "code",
   "execution_count": 93,
   "id": "ce4c9b01-60d4-42c1-840d-e1ff53dd9dda",
   "metadata": {},
   "outputs": [
    {
     "name": "stdin",
     "output_type": "stream",
     "text": [
      "Agrega el ID, el costo y una breve descripción del producto (separados por '|'):  5050|25033.50|Guitarra de la marca Fender\n"
     ]
    },
    {
     "name": "stdout",
     "output_type": "stream",
     "text": [
      "El ID del producto es: 5050 <class 'int'>\n",
      "El Costo del producto es: 25033.50 <class 'str'>\n",
      "La Descripción del producto es: Guitarra de la marca Fender <class 'str'>\n"
     ]
    }
   ],
   "source": [
    "# Solicitar al usuario los datos de un producto a almacenar\n",
    "id_producto, costo_producto, descripcion = input(\"Agrega el ID, el costo y una breve descripción del producto (separados por '|'): \").split(\"|\")\n",
    "\n",
    "# Convierte ID en Entero\n",
    "id_producto = int(id_producto)\n",
    "\n",
    "# Imprimir los valores ingresados con el tipos de datos\n",
    "print(\"El ID del producto es:\", id_producto, type(id_producto))\n",
    "# El dato str no permite que cambie a float\n",
    "print(\"El Costo del producto es:\", costo_producto, type(costo_producto)) \n",
    "print(\"La Descripción del producto es:\", descripcion, type(descripcion))"
   ]
  },
  {
   "cell_type": "code",
   "execution_count": null,
   "id": "a1805475-1c9f-4f9d-9a14-6c10526dcb95",
   "metadata": {},
   "outputs": [],
   "source": []
  }
 ],
 "metadata": {
  "kernelspec": {
   "display_name": "Python 3 (ipykernel)",
   "language": "python",
   "name": "python3"
  },
  "language_info": {
   "codemirror_mode": {
    "name": "ipython",
    "version": 3
   },
   "file_extension": ".py",
   "mimetype": "text/x-python",
   "name": "python",
   "nbconvert_exporter": "python",
   "pygments_lexer": "ipython3",
   "version": "3.12.4"
  }
 },
 "nbformat": 4,
 "nbformat_minor": 5
}
