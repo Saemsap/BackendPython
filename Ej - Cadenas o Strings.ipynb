{
 "cells": [
  {
   "cell_type": "code",
   "execution_count": 5,
   "id": "30a2ce0a-a4cf-4fb6-b4fa-d2f5b6514204",
   "metadata": {},
   "outputs": [
    {
     "name": "stdout",
     "output_type": "stream",
     "text": [
      "Analizador de sentimientos\n",
      "\n",
      "my_string: Este es un product muy bueno, \n",
      "excelente, maravilloso\n",
      "score: 3 \n",
      "resultado: Positivo\n"
     ]
    }
   ],
   "source": [
    "my_string = \"\"\"Este es un product muy bueno, \n",
    "excelente, maravilloso\"\"\"\n",
    "\n",
    "positive_words = [\"bueno\", \"excelente\", \"maravilloso\"]\n",
    "negative_words = [\"defectuoso\", \"malo\", \"horrible\"]\n",
    "\n",
    "score = 0\n",
    "\n",
    "for positive_word in positive_words:\n",
    "    score = score + my_string.count(positive_word)\n",
    "\n",
    "for negative_word in negative_words:\n",
    "    score = score - my_string.count(negative_word)\n",
    "\n",
    "if score == 0:\n",
    "    result = \"Neutro\"\n",
    "if score > 0:\n",
    "    result = \"Positivo\"\n",
    "if score < 0:\n",
    "    result = \"Negativo\"\n",
    "\n",
    "print(\"Analizador de sentimientos\\n\")\n",
    "print(\"my_string: {}\\nscore: {} \\nresultado: {}\".format(my_string, score, result))"
   ]
  },
  {
   "cell_type": "code",
   "execution_count": 7,
   "id": "a3dd5f49-241e-4fe9-a352-dfa1e44180d5",
   "metadata": {},
   "outputs": [
    {
     "name": "stdout",
     "output_type": "stream",
     "text": [
      "Analizador de sentimientos\n",
      "\n",
      "my_string: Este es un producto muy bueno, excelente, maravilloso\n",
      "score: 1 \n",
      "resultado: Positivo\n"
     ]
    }
   ],
   "source": [
    "my_string = \"\"\"Este es un producto muy bueno, excelente, maravilloso\"\"\"\n",
    "\n",
    "# Listas de palabras positivas y negativas\n",
    "positive_words = [\"bueno\", \"excelente\", \"maravilloso\"]\n",
    "negative_words = [\"defectuoso\", \"malo\", \"horrible\"]\n",
    "\n",
    "# Convertimos la cadena a minúsculas y la separamos por palabras\n",
    "my_string_lower = my_string.lower().split()\n",
    "\n",
    "# Inicializamos el puntaje\n",
    "score = sum([my_string_lower.count(word) \n",
    "             for word in positive_words]) - sum([my_string_lower.count(word) \n",
    "                                                 for word in negative_words])\n",
    "\n",
    "# Determinamos el resultado\n",
    "if score == 0:\n",
    "    result = \"Neutro\"\n",
    "elif score > 0:\n",
    "    result = \"Positivo\"\n",
    "else:\n",
    "    result = \"Negativo\"\n",
    "\n",
    "# Imprimimos el resultado\n",
    "print(\"Analizador de sentimientos\\n\")\n",
    "print(f\"my_string: {my_string}\\nscore: {score} \\nresultado: {result}\")"
   ]
  },
  {
   "cell_type": "code",
   "execution_count": null,
   "id": "a5a8a8d0-8d2f-4d63-b0e9-67700a56c121",
   "metadata": {},
   "outputs": [],
   "source": []
  }
 ],
 "metadata": {
  "kernelspec": {
   "display_name": "Python 3 (ipykernel)",
   "language": "python",
   "name": "python3"
  },
  "language_info": {
   "codemirror_mode": {
    "name": "ipython",
    "version": 3
   },
   "file_extension": ".py",
   "mimetype": "text/x-python",
   "name": "python",
   "nbconvert_exporter": "python",
   "pygments_lexer": "ipython3",
   "version": "3.12.4"
  }
 },
 "nbformat": 4,
 "nbformat_minor": 5
}
