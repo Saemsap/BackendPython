{
 "cells": [
  {
   "cell_type": "markdown",
   "id": "6291b846-181f-4e19-a27b-e7e1716dadf0",
   "metadata": {},
   "source": [
    "# Calculadora - Python"
   ]
  },
  {
   "cell_type": "code",
   "execution_count": 47,
   "id": "9265c437-98ce-42b5-9d6c-830e6c5a9cee",
   "metadata": {},
   "outputs": [
    {
     "name": "stdin",
     "output_type": "stream",
     "text": [
      "Selección dos números a operar separados por un '|' :  10|5\n"
     ]
    },
    {
     "name": "stdout",
     "output_type": "stream",
     "text": [
      "El valor de v_num1 es:  10\n",
      "El valor de v_num2 es:  5\n",
      "La Suma es:  15\n",
      "La Resta es:  5\n",
      "La Multiplicación es:  50\n",
      "La División es:  2.0\n",
      "La Potencia es:  100000\n",
      "\n",
      "El valor en Binario de v_num1 es: 0b1010\n",
      "\n",
      "El valor en Binario de v_num2 es: 0b101\n",
      "\n",
      "El valor en Octal de v_num1 es: 0o12\n",
      "\n",
      "El valor en Octal de v_num2 es: 0o5\n",
      "\n",
      "El valor en Hex de v_num1 es: 0xa\n",
      "\n",
      "El valor en Hex de v_num2 es: 0x5\n"
     ]
    }
   ],
   "source": [
    "v_num1, v_num2 = input(\"Selección dos números a operar separados por un '|' : \").split(\"|\")\n",
    "print(\"El valor de v_num1 es: \", v_num1)\n",
    "print(\"El valor de v_num2 es: \", v_num2)\n",
    "\n",
    "# Convierte en Integer las dos variables\n",
    "v_num1 = int(v_num1)\n",
    "v_num2 = int(v_num2)\n",
    "\n",
    "# Suma\n",
    "print(\"La Suma es: \", (v_num1 + v_num2))\n",
    "\n",
    "# Resta\n",
    "v_resta = v_num1 - v_num2\n",
    "print(\"La Resta es: \", v_resta)\n",
    "\n",
    "# Multiplicación\n",
    "v_mul = v_num1 * v_num2\n",
    "print(\"La Multiplicación es: \", v_mul)\n",
    "\n",
    "# División\n",
    "print(\"La División es: \", (v_num1 / v_num2))\n",
    "\n",
    "# Potencia\n",
    "v_potencia = v_num1 ** v_num2\n",
    "print(\"La Potencia es: \", v_potencia)\n",
    "\n",
    "# Se realiza una conversión a Sistema Binario | Octal | Hexadecimal\n",
    "print(\"\\nEl valor en Binario de v_num1 es:\", bin(v_num1))\n",
    "print(\"\\nEl valor en Binario de v_num2 es:\", bin(v_num2))\n",
    "\n",
    "print(\"\\nEl valor en Octal de v_num1 es:\", oct(v_num1))\n",
    "print(\"\\nEl valor en Octal de v_num2 es:\", oct(v_num2))\n",
    "\n",
    "print(\"\\nEl valor en Hex de v_num1 es:\", hex(v_num1))\n",
    "print(\"\\nEl valor en Hex de v_num2 es:\", hex(v_num2))"
   ]
  },
  {
   "cell_type": "code",
   "execution_count": null,
   "id": "e7fa34de-c447-4cd6-bc36-572c7b860d44",
   "metadata": {},
   "outputs": [],
   "source": []
  }
 ],
 "metadata": {
  "kernelspec": {
   "display_name": "Python 3 (ipykernel)",
   "language": "python",
   "name": "python3"
  },
  "language_info": {
   "codemirror_mode": {
    "name": "ipython",
    "version": 3
   },
   "file_extension": ".py",
   "mimetype": "text/x-python",
   "name": "python",
   "nbconvert_exporter": "python",
   "pygments_lexer": "ipython3",
   "version": "3.12.4"
  }
 },
 "nbformat": 4,
 "nbformat_minor": 5
}
